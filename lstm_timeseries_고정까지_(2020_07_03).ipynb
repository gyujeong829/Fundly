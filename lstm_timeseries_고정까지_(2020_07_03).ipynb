{
  "nbformat": 4,
  "nbformat_minor": 0,
  "metadata": {
    "colab": {
      "name": "lstm_timeseries 고정까지 (2020.07.03)",
      "provenance": [],
      "collapsed_sections": [],
      "toc_visible": true,
      "include_colab_link": true
    },
    "kernelspec": {
      "name": "python3",
      "display_name": "Python 3"
    },
    "accelerator": "GPU"
  },
  "cells": [
    {
      "cell_type": "markdown",
      "metadata": {
        "id": "view-in-github",
        "colab_type": "text"
      },
      "source": [
        "<a href=\"https://colab.research.google.com/github/gyujeong829/Fundly/blob/master/lstm_timeseries_%EA%B3%A0%EC%A0%95%EA%B9%8C%EC%A7%80_(2020_07_03).ipynb\" target=\"_parent\"><img src=\"https://colab.research.google.com/assets/colab-badge.svg\" alt=\"Open In Colab\"/></a>"
      ]
    },
    {
      "cell_type": "markdown",
      "metadata": {
        "id": "LFFZ6ZbAk2X-",
        "colab_type": "text"
      },
      "source": [
        "csv불러오기"
      ]
    },
    {
      "cell_type": "code",
      "metadata": {
        "id": "cqbpuhBXbXOv",
        "colab_type": "code",
        "colab": {}
      },
      "source": [
        "import numpy as np\n",
        "import pandas as pd\n",
        "import matplotlib.pyplot as plt\n",
        "%matplotlib inline\n",
        "from statsmodels.tools.eval_measures import rmse\n",
        "from sklearn.preprocessing import MinMaxScaler\n",
        "from keras.preprocessing.sequence import TimeseriesGenerator\n",
        "from keras.models import Sequential\n",
        "from keras.layers import Dense\n",
        "from keras.layers import LSTM\n",
        "from keras.layers import Dropout\n",
        "import warnings\n",
        "\n",
        "\n",
        "warnings.filterwarnings(\"ignore\")\n",
        "df=pd.read_csv(\"/content/sample_data/08.미래에셋 밸런스롱숏증권자투자신탁1호(채권혼합)S.csv\")"
      ],
      "execution_count": null,
      "outputs": []
    },
    {
      "cell_type": "code",
      "metadata": {
        "id": "Mhl7X8-XyZ6t",
        "colab_type": "code",
        "colab": {}
      },
      "source": [
        "# 랜덤시드 고정시키기\n",
        "#fix random seed for reproducibility\n",
        "seed = 7\n",
        "np.random.seed(seed)\n"
      ],
      "execution_count": null,
      "outputs": []
    },
    {
      "cell_type": "code",
      "metadata": {
        "id": "jlz54I6ysLXr",
        "colab_type": "code",
        "colab": {
          "base_uri": "https://localhost:8080/",
          "height": 34
        },
        "outputId": "15ae5495-064b-4484-f0dd-cc0b320c9322"
      },
      "source": [
        "from google.colab import drive\n",
        "drive.mount('/content/drive')"
      ],
      "execution_count": null,
      "outputs": [
        {
          "output_type": "stream",
          "text": [
            "Drive already mounted at /content/drive; to attempt to forcibly remount, call drive.mount(\"/content/drive\", force_remount=True).\n"
          ],
          "name": "stdout"
        }
      ]
    },
    {
      "cell_type": "code",
      "metadata": {
        "id": "d6d2YrSNcZBL",
        "colab_type": "code",
        "colab": {
          "base_uri": "https://localhost:8080/",
          "height": 195
        },
        "outputId": "dc39a209-5dbb-41fa-db7b-29bf10d051fe"
      },
      "source": [
        "#데이터셋의 5행까지 출력\n",
        "df.head()"
      ],
      "execution_count": null,
      "outputs": [
        {
          "output_type": "execute_result",
          "data": {
            "text/html": [
              "<div>\n",
              "<style scoped>\n",
              "    .dataframe tbody tr th:only-of-type {\n",
              "        vertical-align: middle;\n",
              "    }\n",
              "\n",
              "    .dataframe tbody tr th {\n",
              "        vertical-align: top;\n",
              "    }\n",
              "\n",
              "    .dataframe thead th {\n",
              "        text-align: right;\n",
              "    }\n",
              "</style>\n",
              "<table border=\"1\" class=\"dataframe\">\n",
              "  <thead>\n",
              "    <tr style=\"text-align: right;\">\n",
              "      <th></th>\n",
              "      <th>date</th>\n",
              "      <th>price</th>\n",
              "    </tr>\n",
              "  </thead>\n",
              "  <tbody>\n",
              "    <tr>\n",
              "      <th>0</th>\n",
              "      <td>2016.04.26</td>\n",
              "      <td>1015.64</td>\n",
              "    </tr>\n",
              "    <tr>\n",
              "      <th>1</th>\n",
              "      <td>2016.04.27</td>\n",
              "      <td>1013.08</td>\n",
              "    </tr>\n",
              "    <tr>\n",
              "      <th>2</th>\n",
              "      <td>2016.04.28</td>\n",
              "      <td>1013.83</td>\n",
              "    </tr>\n",
              "    <tr>\n",
              "      <th>3</th>\n",
              "      <td>2016.04.29</td>\n",
              "      <td>1014.66</td>\n",
              "    </tr>\n",
              "    <tr>\n",
              "      <th>4</th>\n",
              "      <td>2016.05.02</td>\n",
              "      <td>1017.27</td>\n",
              "    </tr>\n",
              "  </tbody>\n",
              "</table>\n",
              "</div>"
            ],
            "text/plain": [
              "          date    price\n",
              "0  2016.04.26   1015.64\n",
              "1  2016.04.27   1013.08\n",
              "2  2016.04.28   1013.83\n",
              "3  2016.04.29   1014.66\n",
              "4  2016.05.02   1017.27"
            ]
          },
          "metadata": {
            "tags": []
          },
          "execution_count": 60
        }
      ]
    },
    {
      "cell_type": "markdown",
      "metadata": {
        "id": "MJCd2Lmuk7IZ",
        "colab_type": "text"
      },
      "source": [
        "인덱스 date로 설정해줌"
      ]
    },
    {
      "cell_type": "code",
      "metadata": {
        "id": "OgeeQnygcrb_",
        "colab_type": "code",
        "colab": {}
      },
      "source": [
        "df.date=pd.to_datetime(df.date)\n",
        "df=df.set_index(\"date\")"
      ],
      "execution_count": null,
      "outputs": []
    },
    {
      "cell_type": "code",
      "metadata": {
        "id": "hCWY3dUhdSag",
        "colab_type": "code",
        "colab": {
          "base_uri": "https://localhost:8080/",
          "height": 225
        },
        "outputId": "015f837c-e27a-4a4b-c316-9f4213a19f2c"
      },
      "source": [
        "df.head()"
      ],
      "execution_count": null,
      "outputs": [
        {
          "output_type": "execute_result",
          "data": {
            "text/html": [
              "<div>\n",
              "<style scoped>\n",
              "    .dataframe tbody tr th:only-of-type {\n",
              "        vertical-align: middle;\n",
              "    }\n",
              "\n",
              "    .dataframe tbody tr th {\n",
              "        vertical-align: top;\n",
              "    }\n",
              "\n",
              "    .dataframe thead th {\n",
              "        text-align: right;\n",
              "    }\n",
              "</style>\n",
              "<table border=\"1\" class=\"dataframe\">\n",
              "  <thead>\n",
              "    <tr style=\"text-align: right;\">\n",
              "      <th></th>\n",
              "      <th>price</th>\n",
              "    </tr>\n",
              "    <tr>\n",
              "      <th>date</th>\n",
              "      <th></th>\n",
              "    </tr>\n",
              "  </thead>\n",
              "  <tbody>\n",
              "    <tr>\n",
              "      <th>2016-04-26</th>\n",
              "      <td>1015.64</td>\n",
              "    </tr>\n",
              "    <tr>\n",
              "      <th>2016-04-27</th>\n",
              "      <td>1013.08</td>\n",
              "    </tr>\n",
              "    <tr>\n",
              "      <th>2016-04-28</th>\n",
              "      <td>1013.83</td>\n",
              "    </tr>\n",
              "    <tr>\n",
              "      <th>2016-04-29</th>\n",
              "      <td>1014.66</td>\n",
              "    </tr>\n",
              "    <tr>\n",
              "      <th>2016-05-02</th>\n",
              "      <td>1017.27</td>\n",
              "    </tr>\n",
              "  </tbody>\n",
              "</table>\n",
              "</div>"
            ],
            "text/plain": [
              "              price\n",
              "date               \n",
              "2016-04-26  1015.64\n",
              "2016-04-27  1013.08\n",
              "2016-04-28  1013.83\n",
              "2016-04-29  1014.66\n",
              "2016-05-02  1017.27"
            ]
          },
          "metadata": {
            "tags": []
          },
          "execution_count": 62
        }
      ]
    },
    {
      "cell_type": "markdown",
      "metadata": {
        "id": "C0_uUo8SWMKY",
        "colab_type": "text"
      },
      "source": [
        ""
      ]
    },
    {
      "cell_type": "markdown",
      "metadata": {
        "id": "cou2-WlPk_NS",
        "colab_type": "text"
      },
      "source": [
        "400일로 바꿔줌"
      ]
    },
    {
      "cell_type": "code",
      "metadata": {
        "id": "JlIIawG2dWDc",
        "colab_type": "code",
        "colab": {}
      },
      "source": [
        "#train, test =df[:-800], df[-800:]\n",
        "from sklearn.model_selection import train_test_split\n",
        "train,test = train_test_split(df, test_size=0.1, shuffle=False)"
      ],
      "execution_count": null,
      "outputs": []
    },
    {
      "cell_type": "code",
      "metadata": {
        "id": "8erzjovado2D",
        "colab_type": "code",
        "colab": {}
      },
      "source": [
        "scaler=MinMaxScaler()\n",
        "scaler.fit(train)\n",
        "train=scaler.transform(train)\n",
        "test=scaler.transform(test)"
      ],
      "execution_count": null,
      "outputs": []
    },
    {
      "cell_type": "code",
      "metadata": {
        "id": "XZY4oDWjd69q",
        "colab_type": "code",
        "colab": {
          "base_uri": "https://localhost:8080/",
          "height": 1000
        },
        "outputId": "37db1556-6f01-417f-f7b5-8e3504b0b14d"
      },
      "source": [
        "n_input=365      #입력 개수\n",
        "n_features=1      #독립변수의 수\n",
        "\n",
        "generator=TimeseriesGenerator(train, train,length=n_input, batch_size=15)\n",
        "\n",
        "model = Sequential()\n",
        "model.add(LSTM(200, activation='relu', input_shape=(n_input, n_features)))\n",
        "#model.add(Dropout(0.15))\n",
        "model.add(Dense(1))\n",
        "model.compile(optimizer='adam', loss='mse')\n",
        "model.fit_generator(generator, epochs=100)\n"
      ],
      "execution_count": null,
      "outputs": [
        {
          "output_type": "stream",
          "text": [
            "Epoch 1/100\n",
            "36/36 [==============================] - 31s 854ms/step - loss: 0.0473\n",
            "Epoch 2/100\n",
            "36/36 [==============================] - 30s 840ms/step - loss: 0.0074\n",
            "Epoch 3/100\n",
            "36/36 [==============================] - 30s 842ms/step - loss: 0.0077\n",
            "Epoch 4/100\n",
            "36/36 [==============================] - 30s 843ms/step - loss: 0.0038\n",
            "Epoch 5/100\n",
            "36/36 [==============================] - 30s 838ms/step - loss: 0.0035\n",
            "Epoch 6/100\n",
            "36/36 [==============================] - 30s 842ms/step - loss: 0.0030\n",
            "Epoch 7/100\n",
            "36/36 [==============================] - 30s 845ms/step - loss: 0.0038\n",
            "Epoch 8/100\n",
            "36/36 [==============================] - 30s 834ms/step - loss: 0.0031\n",
            "Epoch 9/100\n",
            "36/36 [==============================] - 31s 852ms/step - loss: 0.0031\n",
            "Epoch 10/100\n",
            "36/36 [==============================] - 31s 854ms/step - loss: 0.0025\n",
            "Epoch 11/100\n",
            "36/36 [==============================] - 30s 833ms/step - loss: 0.0040\n",
            "Epoch 12/100\n",
            "36/36 [==============================] - 31s 850ms/step - loss: 0.0022\n",
            "Epoch 13/100\n",
            "36/36 [==============================] - 31s 852ms/step - loss: 0.0024\n",
            "Epoch 14/100\n",
            "36/36 [==============================] - 30s 843ms/step - loss: 0.0021\n",
            "Epoch 15/100\n",
            "36/36 [==============================] - 30s 833ms/step - loss: 0.0034\n",
            "Epoch 16/100\n",
            "36/36 [==============================] - 30s 833ms/step - loss: 0.0038\n",
            "Epoch 17/100\n",
            "36/36 [==============================] - 30s 828ms/step - loss: 0.0020\n",
            "Epoch 18/100\n",
            "36/36 [==============================] - 30s 845ms/step - loss: 0.0019\n",
            "Epoch 19/100\n",
            "36/36 [==============================] - 31s 856ms/step - loss: 0.0020\n",
            "Epoch 20/100\n",
            "36/36 [==============================] - 30s 837ms/step - loss: 0.0019\n",
            "Epoch 21/100\n",
            "36/36 [==============================] - 31s 850ms/step - loss: 0.0018\n",
            "Epoch 22/100\n",
            "36/36 [==============================] - 30s 841ms/step - loss: 0.0020\n",
            "Epoch 23/100\n",
            "36/36 [==============================] - 30s 833ms/step - loss: 0.0016\n",
            "Epoch 24/100\n",
            "36/36 [==============================] - 30s 843ms/step - loss: 0.0017\n",
            "Epoch 25/100\n",
            "36/36 [==============================] - 30s 841ms/step - loss: 0.0025\n",
            "Epoch 26/100\n",
            "36/36 [==============================] - 30s 827ms/step - loss: 0.0019\n",
            "Epoch 27/100\n",
            "36/36 [==============================] - 30s 844ms/step - loss: 0.0016\n",
            "Epoch 28/100\n",
            "36/36 [==============================] - 30s 827ms/step - loss: 0.0018\n",
            "Epoch 29/100\n",
            "36/36 [==============================] - 30s 842ms/step - loss: 0.0019\n",
            "Epoch 30/100\n",
            "36/36 [==============================] - 30s 844ms/step - loss: 0.0017\n",
            "Epoch 31/100\n",
            "36/36 [==============================] - 30s 824ms/step - loss: 0.0017\n",
            "Epoch 32/100\n",
            "36/36 [==============================] - 30s 826ms/step - loss: 0.0017\n",
            "Epoch 33/100\n",
            "36/36 [==============================] - 30s 825ms/step - loss: 0.0015\n",
            "Epoch 34/100\n",
            "36/36 [==============================] - 30s 826ms/step - loss: 0.0015\n",
            "Epoch 35/100\n",
            "36/36 [==============================] - 30s 825ms/step - loss: 0.0014\n",
            "Epoch 36/100\n",
            "36/36 [==============================] - 30s 842ms/step - loss: 0.0014\n",
            "Epoch 37/100\n",
            "36/36 [==============================] - 30s 829ms/step - loss: 0.0014\n",
            "Epoch 38/100\n",
            "36/36 [==============================] - 30s 827ms/step - loss: 0.0013\n",
            "Epoch 39/100\n",
            "36/36 [==============================] - 30s 834ms/step - loss: 0.0017\n",
            "Epoch 40/100\n",
            "36/36 [==============================] - 31s 858ms/step - loss: 0.0014\n",
            "Epoch 41/100\n",
            "36/36 [==============================] - 30s 830ms/step - loss: 0.0017\n",
            "Epoch 42/100\n",
            "36/36 [==============================] - 30s 835ms/step - loss: 0.0014\n",
            "Epoch 43/100\n",
            "36/36 [==============================] - 30s 833ms/step - loss: 0.0015\n",
            "Epoch 44/100\n",
            "36/36 [==============================] - 30s 842ms/step - loss: 0.0014\n",
            "Epoch 45/100\n",
            "36/36 [==============================] - 30s 831ms/step - loss: 0.0014\n",
            "Epoch 46/100\n",
            "36/36 [==============================] - 30s 837ms/step - loss: 0.0014\n",
            "Epoch 47/100\n",
            "36/36 [==============================] - 30s 846ms/step - loss: 0.0013\n",
            "Epoch 48/100\n",
            "36/36 [==============================] - 30s 844ms/step - loss: 0.0012\n",
            "Epoch 49/100\n",
            "36/36 [==============================] - 30s 837ms/step - loss: 0.0013\n",
            "Epoch 50/100\n",
            "36/36 [==============================] - 31s 860ms/step - loss: 0.0013\n",
            "Epoch 51/100\n",
            "36/36 [==============================] - 30s 842ms/step - loss: 0.0011\n",
            "Epoch 52/100\n",
            "36/36 [==============================] - 30s 825ms/step - loss: 0.0012\n",
            "Epoch 53/100\n",
            "36/36 [==============================] - 30s 840ms/step - loss: 0.0011\n",
            "Epoch 54/100\n",
            "36/36 [==============================] - 30s 831ms/step - loss: 0.0013\n",
            "Epoch 55/100\n",
            "36/36 [==============================] - 30s 841ms/step - loss: 0.0011\n",
            "Epoch 56/100\n",
            "36/36 [==============================] - 30s 832ms/step - loss: 0.0011\n",
            "Epoch 57/100\n",
            "36/36 [==============================] - 30s 835ms/step - loss: 0.0011\n",
            "Epoch 58/100\n",
            "36/36 [==============================] - 30s 836ms/step - loss: 0.0011\n",
            "Epoch 59/100\n",
            "36/36 [==============================] - 30s 834ms/step - loss: 0.0015\n",
            "Epoch 60/100\n",
            "36/36 [==============================] - 31s 862ms/step - loss: 0.0011\n",
            "Epoch 61/100\n",
            "36/36 [==============================] - 31s 852ms/step - loss: 0.0012\n",
            "Epoch 62/100\n",
            "36/36 [==============================] - 30s 835ms/step - loss: 0.0013\n",
            "Epoch 63/100\n",
            "36/36 [==============================] - 30s 837ms/step - loss: 0.0011\n",
            "Epoch 64/100\n",
            "36/36 [==============================] - 30s 842ms/step - loss: 9.7370e-04\n",
            "Epoch 65/100\n",
            "36/36 [==============================] - 30s 836ms/step - loss: 9.5820e-04\n",
            "Epoch 66/100\n",
            "36/36 [==============================] - 30s 838ms/step - loss: 9.4425e-04\n",
            "Epoch 67/100\n",
            "36/36 [==============================] - 30s 840ms/step - loss: 9.3571e-04\n",
            "Epoch 68/100\n",
            "36/36 [==============================] - 30s 839ms/step - loss: 9.6003e-04\n",
            "Epoch 69/100\n",
            "36/36 [==============================] - 30s 831ms/step - loss: 9.1814e-04\n",
            "Epoch 70/100\n",
            "36/36 [==============================] - 30s 836ms/step - loss: 8.7838e-04\n",
            "Epoch 71/100\n",
            "36/36 [==============================] - 31s 856ms/step - loss: 9.5896e-04\n",
            "Epoch 72/100\n",
            "36/36 [==============================] - 30s 833ms/step - loss: 0.0011\n",
            "Epoch 73/100\n",
            "36/36 [==============================] - 30s 838ms/step - loss: 9.5738e-04\n",
            "Epoch 74/100\n",
            "36/36 [==============================] - 30s 846ms/step - loss: 0.0011\n",
            "Epoch 75/100\n",
            "36/36 [==============================] - 30s 846ms/step - loss: 0.0010\n",
            "Epoch 76/100\n",
            "36/36 [==============================] - 30s 841ms/step - loss: 0.0010\n",
            "Epoch 77/100\n",
            "36/36 [==============================] - 30s 834ms/step - loss: 9.2389e-04\n",
            "Epoch 78/100\n",
            "36/36 [==============================] - 30s 838ms/step - loss: 9.4573e-04\n",
            "Epoch 79/100\n",
            "36/36 [==============================] - 30s 842ms/step - loss: 9.3892e-04\n",
            "Epoch 80/100\n",
            "36/36 [==============================] - 30s 829ms/step - loss: 8.6300e-04\n",
            "Epoch 81/100\n",
            "36/36 [==============================] - 31s 868ms/step - loss: 9.7823e-04\n",
            "Epoch 82/100\n",
            "36/36 [==============================] - 30s 837ms/step - loss: 8.4434e-04\n",
            "Epoch 83/100\n",
            "36/36 [==============================] - 30s 839ms/step - loss: 8.7554e-04\n",
            "Epoch 84/100\n",
            "36/36 [==============================] - 31s 849ms/step - loss: 8.2810e-04\n",
            "Epoch 85/100\n",
            "36/36 [==============================] - 30s 838ms/step - loss: 8.0708e-04\n",
            "Epoch 86/100\n",
            "36/36 [==============================] - 31s 848ms/step - loss: 8.1062e-04\n",
            "Epoch 87/100\n",
            "36/36 [==============================] - 30s 832ms/step - loss: 9.4034e-04\n",
            "Epoch 88/100\n",
            "36/36 [==============================] - 30s 841ms/step - loss: 7.6387e-04\n",
            "Epoch 89/100\n",
            "36/36 [==============================] - 30s 832ms/step - loss: 9.7772e-04\n",
            "Epoch 90/100\n",
            "36/36 [==============================] - 31s 848ms/step - loss: 8.6669e-04\n",
            "Epoch 91/100\n",
            "36/36 [==============================] - 31s 863ms/step - loss: 8.1967e-04\n",
            "Epoch 92/100\n",
            "36/36 [==============================] - 30s 829ms/step - loss: 7.9197e-04\n",
            "Epoch 93/100\n",
            "36/36 [==============================] - 30s 833ms/step - loss: 8.1586e-04\n",
            "Epoch 94/100\n",
            "36/36 [==============================] - 30s 836ms/step - loss: 7.7453e-04\n",
            "Epoch 95/100\n",
            "36/36 [==============================] - 30s 839ms/step - loss: 7.7556e-04\n",
            "Epoch 96/100\n",
            "36/36 [==============================] - 30s 836ms/step - loss: 7.3257e-04\n",
            "Epoch 97/100\n",
            "36/36 [==============================] - 30s 833ms/step - loss: 7.0048e-04\n",
            "Epoch 98/100\n",
            "36/36 [==============================] - 30s 830ms/step - loss: 8.8234e-04\n",
            "Epoch 99/100\n",
            "36/36 [==============================] - 30s 831ms/step - loss: 9.1248e-04\n",
            "Epoch 100/100\n",
            "36/36 [==============================] - 30s 834ms/step - loss: 7.8441e-04\n"
          ],
          "name": "stdout"
        },
        {
          "output_type": "execute_result",
          "data": {
            "text/plain": [
              "<keras.callbacks.callbacks.History at 0x7f45d22cf080>"
            ]
          },
          "metadata": {
            "tags": []
          },
          "execution_count": 65
        }
      ]
    },
    {
      "cell_type": "code",
      "metadata": {
        "id": "oE8NhWiheeZW",
        "colab_type": "code",
        "colab": {}
      },
      "source": [
        "pred_list=[]\n",
        "batch=train[-n_input:].reshape((1, n_input, n_features))\n",
        "\n",
        "for i in range(n_input):\n",
        "    pred_list.append(model.predict(batch)[0])\n",
        "    batch=np.append(batch[:,1:,:],[[pred_list[i]]], axis=1)\n"
      ],
      "execution_count": null,
      "outputs": []
    },
    {
      "cell_type": "code",
      "metadata": {
        "id": "gYzqwUWugOlZ",
        "colab_type": "code",
        "colab": {}
      },
      "source": [
        "\n",
        "df_predict=pd.DataFrame(scaler.inverse_transform(pred_list),index=df[-n_input:].index, columns=['Predictions'])\n",
        "df_test=pd.concat([df,df_predict],axis=1)"
      ],
      "execution_count": null,
      "outputs": []
    },
    {
      "cell_type": "code",
      "metadata": {
        "id": "bDDJEky4g0dk",
        "colab_type": "code",
        "colab": {
          "base_uri": "https://localhost:8080/",
          "height": 225
        },
        "outputId": "3e9a5bb9-12f0-4247-8bb6-d3a47ed426b9"
      },
      "source": [
        "df_test.tail()"
      ],
      "execution_count": null,
      "outputs": [
        {
          "output_type": "execute_result",
          "data": {
            "text/html": [
              "<div>\n",
              "<style scoped>\n",
              "    .dataframe tbody tr th:only-of-type {\n",
              "        vertical-align: middle;\n",
              "    }\n",
              "\n",
              "    .dataframe tbody tr th {\n",
              "        vertical-align: top;\n",
              "    }\n",
              "\n",
              "    .dataframe thead th {\n",
              "        text-align: right;\n",
              "    }\n",
              "</style>\n",
              "<table border=\"1\" class=\"dataframe\">\n",
              "  <thead>\n",
              "    <tr style=\"text-align: right;\">\n",
              "      <th></th>\n",
              "      <th>price</th>\n",
              "      <th>Predictions</th>\n",
              "    </tr>\n",
              "    <tr>\n",
              "      <th>date</th>\n",
              "      <th></th>\n",
              "      <th></th>\n",
              "    </tr>\n",
              "  </thead>\n",
              "  <tbody>\n",
              "    <tr>\n",
              "      <th>2020-05-14</th>\n",
              "      <td>1068.75</td>\n",
              "      <td>1037.468948</td>\n",
              "    </tr>\n",
              "    <tr>\n",
              "      <th>2020-05-15</th>\n",
              "      <td>1071.69</td>\n",
              "      <td>1037.447705</td>\n",
              "    </tr>\n",
              "    <tr>\n",
              "      <th>2020-05-18</th>\n",
              "      <td>1072.37</td>\n",
              "      <td>1037.426528</td>\n",
              "    </tr>\n",
              "    <tr>\n",
              "      <th>2020-05-19</th>\n",
              "      <td>1072.54</td>\n",
              "      <td>1037.405419</td>\n",
              "    </tr>\n",
              "    <tr>\n",
              "      <th>2020-05-20</th>\n",
              "      <td>1070.88</td>\n",
              "      <td>1037.384380</td>\n",
              "    </tr>\n",
              "  </tbody>\n",
              "</table>\n",
              "</div>"
            ],
            "text/plain": [
              "              price  Predictions\n",
              "date                            \n",
              "2020-05-14  1068.75  1037.468948\n",
              "2020-05-15  1071.69  1037.447705\n",
              "2020-05-18  1072.37  1037.426528\n",
              "2020-05-19  1072.54  1037.405419\n",
              "2020-05-20  1070.88  1037.384380"
            ]
          },
          "metadata": {
            "tags": []
          },
          "execution_count": 68
        }
      ]
    },
    {
      "cell_type": "code",
      "metadata": {
        "id": "K3DP_5g69njO",
        "colab_type": "code",
        "colab": {}
      },
      "source": [
        "df_mse = df['2020.04.02':'2020.05.19']"
      ],
      "execution_count": null,
      "outputs": []
    },
    {
      "cell_type": "code",
      "metadata": {
        "id": "5gn_YYqv_LbH",
        "colab_type": "code",
        "colab": {
          "base_uri": "https://localhost:8080/",
          "height": 580
        },
        "outputId": "b5924f98-f720-40c8-87fd-454efe9f7ac5"
      },
      "source": [
        "print(df_mse)"
      ],
      "execution_count": null,
      "outputs": [
        {
          "output_type": "stream",
          "text": [
            "              price\n",
            "date               \n",
            "2020-04-02  1037.96\n",
            "2020-04-03  1044.53\n",
            "2020-04-06  1045.42\n",
            "2020-04-07  1050.93\n",
            "2020-04-08  1048.35\n",
            "2020-04-09  1046.48\n",
            "2020-04-10  1044.40\n",
            "2020-04-13  1043.14\n",
            "2020-04-14  1040.32\n",
            "2020-04-16  1043.25\n",
            "2020-04-17  1048.49\n",
            "2020-04-20  1051.90\n",
            "2020-04-21  1049.94\n",
            "2020-04-22  1048.81\n",
            "2020-04-23  1051.88\n",
            "2020-04-24  1056.66\n",
            "2020-04-27  1056.07\n",
            "2020-04-28  1059.05\n",
            "2020-04-29  1058.93\n",
            "2020-05-04  1057.03\n",
            "2020-05-06  1056.37\n",
            "2020-05-07  1060.03\n",
            "2020-05-08  1062.10\n",
            "2020-05-11  1061.66\n",
            "2020-05-12  1063.27\n",
            "2020-05-13  1064.77\n",
            "2020-05-14  1068.75\n",
            "2020-05-15  1071.69\n",
            "2020-05-18  1072.37\n",
            "2020-05-19  1072.54\n"
          ],
          "name": "stdout"
        }
      ]
    },
    {
      "cell_type": "code",
      "metadata": {
        "id": "ILXFKSS9xtCj",
        "colab_type": "code",
        "colab": {
          "base_uri": "https://localhost:8080/",
          "height": 34
        },
        "outputId": "5c4b0fc0-0a7d-48c1-9cd5-817c927f646a"
      },
      "source": [
        "#RMSE 구하기      RMSE는 낮을수록 정밀도가 높음\n",
        "pred_actual_rmse = rmse(df_test.iloc[-n_input:, [0]], df_test.iloc[-n_input:, [1]])\n",
        "print(\"rmse: \", pred_actual_rmse)"
      ],
      "execution_count": null,
      "outputs": [
        {
          "output_type": "stream",
          "text": [
            "rmse:  [15.60855642]\n"
          ],
          "name": "stdout"
        }
      ]
    },
    {
      "cell_type": "code",
      "metadata": {
        "id": "GFDX0N8Xxyi6",
        "colab_type": "code",
        "colab": {}
      },
      "source": [
        "#R2 구하기          1을 최대값으로 1에 가까울수록 좋음. 음의 수가 나올 경우 학습 시 머신에 잘못이 있음\n",
        "#from sklearn.metrics import r2_score\n",
        "#r2_y_predict = r2_score(df_mse,df_predict)\n",
        "#print(\"R2: \", r2_y_predict)\n"
      ],
      "execution_count": null,
      "outputs": []
    },
    {
      "cell_type": "code",
      "metadata": {
        "id": "NWgLRow4g3kh",
        "colab_type": "code",
        "colab": {
          "base_uri": "https://localhost:8080/",
          "height": 307
        },
        "outputId": "e0ffa99f-ed8c-4429-9e6d-fbf7cebc0072"
      },
      "source": [
        "plt.figure(figsize=(20,5))\n",
        "plt.plot(df_test.index, df_test['price'])   #df_test.index를 df_test['price']로 줌\n",
        "plt.plot(df_test.index, df_test['Predictions'],color='r')\n",
        "plt.show()"
      ],
      "execution_count": null,
      "outputs": [
        {
          "output_type": "display_data",
          "data": {
            "image/png": "[encoded data removed]",
            "text/plain": [
              "<Figure size 1440x360 with 1 Axes>"
            ]
          },
          "metadata": {
            "tags": [],
            "needs_background": "light"
          }
        }
      ]
    },
    {
      "cell_type": "code",
      "metadata": {
        "id": "NZVPp6pIhbPg",
        "colab_type": "code",
        "colab": {
          "base_uri": "https://localhost:8080/",
          "height": 1000
        },
        "outputId": "4942d91f-fc67-46a9-ae1f-e2d86650e006"
      },
      "source": [
        "train=df    #train = whole data frame\n",
        "\n",
        "scaler.fit(train)\n",
        "train=scaler.transform(train)\n",
        "\n",
        "n_input=365\n",
        "n_features=1\n",
        "\n",
        "generator=TimeseriesGenerator(train, train,length=n_input, batch_size=15)\n",
        "\n",
        "model.fit_generator(generator, epochs=100)\n",
        "\n",
        "\n",
        "\n",
        "pred_list=[]\n",
        "batch=train[-n_input:].reshape((1, n_input, n_features))\n",
        "\n",
        "for i in range(n_input):\n",
        "    pred_list.append(model.predict(batch)[0])\n",
        "    batch=np.append(batch[:,1:,:],[[pred_list[i]]], axis=1)"
      ],
      "execution_count": null,
      "outputs": [
        {
          "output_type": "stream",
          "text": [
            "Epoch 1/100\n",
            "43/43 [==============================] - 37s 856ms/step - loss: 0.0010\n",
            "Epoch 2/100\n",
            "43/43 [==============================] - 36s 842ms/step - loss: 0.0012\n",
            "Epoch 3/100\n",
            "43/43 [==============================] - 36s 846ms/step - loss: 9.8349e-04\n",
            "Epoch 4/100\n",
            "43/43 [==============================] - 36s 846ms/step - loss: 9.2481e-04\n",
            "Epoch 5/100\n",
            "43/43 [==============================] - 36s 838ms/step - loss: 9.0927e-04\n",
            "Epoch 6/100\n",
            "43/43 [==============================] - 36s 842ms/step - loss: 8.8147e-04\n",
            "Epoch 7/100\n",
            "43/43 [==============================] - 36s 843ms/step - loss: 8.2466e-04\n",
            "Epoch 8/100\n",
            "43/43 [==============================] - 36s 830ms/step - loss: 9.0921e-04\n",
            "Epoch 9/100\n",
            "43/43 [==============================] - 37s 864ms/step - loss: 8.2991e-04\n",
            "Epoch 10/100\n",
            "43/43 [==============================] - 36s 832ms/step - loss: 8.3937e-04\n",
            "Epoch 11/100\n",
            "43/43 [==============================] - 36s 835ms/step - loss: 8.1469e-04\n",
            "Epoch 12/100\n",
            "43/43 [==============================] - 36s 842ms/step - loss: 8.0565e-04\n",
            "Epoch 13/100\n",
            "43/43 [==============================] - 36s 832ms/step - loss: 8.0819e-04\n",
            "Epoch 14/100\n",
            "43/43 [==============================] - 36s 830ms/step - loss: 8.4194e-04\n",
            "Epoch 15/100\n",
            "43/43 [==============================] - 36s 847ms/step - loss: 7.5109e-04\n",
            "Epoch 16/100\n",
            "43/43 [==============================] - 37s 849ms/step - loss: 7.6975e-04\n",
            "Epoch 17/100\n",
            "43/43 [==============================] - 37s 856ms/step - loss: 7.7461e-04\n",
            "Epoch 18/100\n",
            "43/43 [==============================] - 37s 852ms/step - loss: 7.6122e-04\n",
            "Epoch 19/100\n",
            "43/43 [==============================] - 36s 830ms/step - loss: 8.2946e-04\n",
            "Epoch 20/100\n",
            "43/43 [==============================] - 36s 835ms/step - loss: 7.5434e-04\n",
            "Epoch 21/100\n",
            "43/43 [==============================] - 36s 835ms/step - loss: 7.6122e-04\n",
            "Epoch 22/100\n",
            "43/43 [==============================] - 36s 840ms/step - loss: 7.9549e-04\n",
            "Epoch 23/100\n",
            "43/43 [==============================] - 36s 831ms/step - loss: 8.6330e-04\n",
            "Epoch 24/100\n",
            "43/43 [==============================] - 35s 822ms/step - loss: 7.1853e-04\n",
            "Epoch 25/100\n",
            "43/43 [==============================] - 36s 833ms/step - loss: 7.7561e-04\n",
            "Epoch 26/100\n",
            "43/43 [==============================] - 36s 833ms/step - loss: 7.3251e-04\n",
            "Epoch 27/100\n",
            "43/43 [==============================] - 37s 849ms/step - loss: 9.9936e-04\n",
            "Epoch 28/100\n",
            "43/43 [==============================] - 36s 831ms/step - loss: 9.5338e-04\n",
            "Epoch 29/100\n",
            "43/43 [==============================] - 36s 838ms/step - loss: 7.6622e-04\n",
            "Epoch 30/100\n",
            "43/43 [==============================] - 36s 845ms/step - loss: 8.9201e-04\n",
            "Epoch 31/100\n",
            "43/43 [==============================] - 36s 835ms/step - loss: 7.4599e-04\n",
            "Epoch 32/100\n",
            "43/43 [==============================] - 36s 835ms/step - loss: 7.5550e-04\n",
            "Epoch 33/100\n",
            "43/43 [==============================] - 36s 844ms/step - loss: 8.9557e-04\n",
            "Epoch 34/100\n",
            "43/43 [==============================] - 36s 838ms/step - loss: 7.7046e-04\n",
            "Epoch 35/100\n",
            "43/43 [==============================] - 36s 849ms/step - loss: 7.1234e-04\n",
            "Epoch 36/100\n",
            "43/43 [==============================] - 37s 851ms/step - loss: 6.7231e-04\n",
            "Epoch 37/100\n",
            "43/43 [==============================] - 37s 853ms/step - loss: 7.1245e-04\n",
            "Epoch 38/100\n",
            "43/43 [==============================] - 36s 829ms/step - loss: 7.1591e-04\n",
            "Epoch 39/100\n",
            "43/43 [==============================] - 36s 840ms/step - loss: 7.8024e-04\n",
            "Epoch 40/100\n",
            "43/43 [==============================] - 36s 839ms/step - loss: 6.8063e-04\n",
            "Epoch 41/100\n",
            "43/43 [==============================] - 36s 836ms/step - loss: 6.6497e-04\n",
            "Epoch 42/100\n",
            "43/43 [==============================] - 37s 854ms/step - loss: 6.5012e-04\n",
            "Epoch 43/100\n",
            "43/43 [==============================] - 37s 861ms/step - loss: 6.7578e-04\n",
            "Epoch 44/100\n",
            "43/43 [==============================] - 37s 864ms/step - loss: 7.7606e-04\n",
            "Epoch 45/100\n",
            " 1/43 [..............................] - ETA: 35s - loss: 4.2581e-04"
          ],
          "name": "stdout"
        }
      ]
    },
    {
      "cell_type": "markdown",
      "metadata": {
        "id": "sAnwOmIenwoQ",
        "colab_type": "text"
      },
      "source": [
        "months>days로 바꿈 30일 예측함"
      ]
    },
    {
      "cell_type": "code",
      "metadata": {
        "id": "_gmaZZutiSBV",
        "colab_type": "code",
        "colab": {}
      },
      "source": [
        "from pandas.tseries.offsets import DateOffset\n",
        "add_dates=[df.index[-1]+DateOffset(days=x)for x in range(0,366)]\n",
        "future_dates=pd.DataFrame(index=add_dates[1:], columns=df.columns)"
      ],
      "execution_count": null,
      "outputs": []
    },
    {
      "cell_type": "code",
      "metadata": {
        "id": "6nCgJbbsjCLa",
        "colab_type": "code",
        "colab": {}
      },
      "source": [
        "\n",
        "future_dates.tail()"
      ],
      "execution_count": null,
      "outputs": []
    },
    {
      "cell_type": "code",
      "metadata": {
        "id": "5ZXvSdkBjPBM",
        "colab_type": "code",
        "colab": {}
      },
      "source": [
        "df_predict=pd.DataFrame(scaler.inverse_transform(pred_list),\n",
        "                        index=future_dates[-n_input:].index, columns=['Prediction'])\n",
        "\n",
        "#df_proj는 기존의 df와 df_predict를 결합하여 한 눈에 보기 쉽게 하기 위함\n",
        "df_proj=pd.concat([df,df_predict],axis=1)"
      ],
      "execution_count": null,
      "outputs": []
    },
    {
      "cell_type": "markdown",
      "metadata": {
        "id": "IFP5q0Ojl0tY",
        "colab_type": "text"
      },
      "source": [
        "14로 보면 12개월 예측해서밑에는 예측값, 위에는 실제값 나옴"
      ]
    },
    {
      "cell_type": "code",
      "metadata": {
        "id": "sxXXTh7zj3Kw",
        "colab_type": "code",
        "colab": {}
      },
      "source": [
        "#5월 20일의 값부터 30일 동안의 값을 예측한 결과\n",
        "df_proj.tail(366)"
      ],
      "execution_count": null,
      "outputs": []
    },
    {
      "cell_type": "code",
      "metadata": {
        "id": "qcVVgdsNzWIh",
        "colab_type": "code",
        "colab": {}
      },
      "source": [
        "# #df2라는 데이터셋에는 5월19일부터 모델로 예측한 6월 18일까지의 기준가가 들어있음\n",
        "# df2=pd.read_csv(\"/content/sample_data/5월19일이후.csv\")\n",
        "# #인덱스를 date로 설정해줌\n",
        "# df2.date=pd.to_datetime(df2.date)\n",
        "# df2=df2.set_index(\"date\")\n",
        "# #비어있는 값에 처리되는 NaN을 숫자 0으로 변경\n",
        "# np.nan_to_num(df2, copy = False)\n",
        "# df2.head()"
      ],
      "execution_count": null,
      "outputs": []
    },
    {
      "cell_type": "code",
      "metadata": {
        "id": "J5t7hjMa0Etp",
        "colab_type": "code",
        "colab": {}
      },
      "source": [
        "# #비교하기 편하도록 df2와 예측값을 합쳐줌\n",
        "# df2_proj=pd.concat([df2,df_predict],axis=1)"
      ],
      "execution_count": null,
      "outputs": []
    },
    {
      "cell_type": "code",
      "metadata": {
        "id": "V_m7SuD-0I7D",
        "colab_type": "code",
        "colab": {}
      },
      "source": [
        "# #5월 20일부터 6월 18일까지의 실제 기준가와 예측값을 나란히 비교하도록 출력\n",
        "# df2_proj.tail(30)"
      ],
      "execution_count": null,
      "outputs": []
    },
    {
      "cell_type": "code",
      "metadata": {
        "id": "ZWORNXaiLVOJ",
        "colab_type": "code",
        "colab": {}
      },
      "source": [
        "# #RMSE 구하기      RMSE는 낮을수록 정밀도가 높음\n",
        "# from sklearn.metrics import mean_squared_error\n",
        "# def RMSE(y_test, y_predict):\n",
        "#   return np.sqrt(mean_squared_error(y_test, y_predict))\n",
        "\n",
        "# print(\"RMSE: \", RMSE(df2, df_predict))"
      ],
      "execution_count": null,
      "outputs": []
    },
    {
      "cell_type": "code",
      "metadata": {
        "id": "sdiFKTBe4aPL",
        "colab_type": "code",
        "colab": {}
      },
      "source": [
        "# #R2 구하기          1을 최대값으로 1에 가까울수록 좋음. 음의 수가 나올 경우 학습 시 머신에 잘못이 있음\n",
        "# from sklearn.metrics import r2_score\n",
        "# r2_y_predict = r2_score(df2,df_predict)\n",
        "# print(\"R2: \", r2_y_predict)"
      ],
      "execution_count": null,
      "outputs": []
    },
    {
      "cell_type": "code",
      "metadata": {
        "id": "3nYXfoD1kASe",
        "colab_type": "code",
        "colab": {}
      },
      "source": [
        "plt.figure(figsize=(10,4))\n",
        "plt.plot(df_proj.index, df_proj['price'])\n",
        "plt.plot(df_proj.index, df_proj['Prediction'],color='r')\n",
        "plt.legend(loc='best', fontsize='large')\n",
        "plt.xticks(fontsize=12)\n",
        "plt.yticks(fontsize=12)\n",
        "plt.show()"
      ],
      "execution_count": null,
      "outputs": []
    },
    {
      "cell_type": "markdown",
      "metadata": {
        "id": "SI8EWXxawPha",
        "colab_type": "text"
      },
      "source": [
        "https://youtu.be/h8v9--50mdU"
      ]
    }
  ]
}