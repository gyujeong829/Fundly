{
  "nbformat": 4,
  "nbformat_minor": 0,
  "metadata": {
    "colab": {
      "name": "lstm_timeseries 고정까지",
      "provenance": [],
      "collapsed_sections": [],
      "toc_visible": true,
      "include_colab_link": true
    },
    "kernelspec": {
      "name": "python3",
      "display_name": "Python 3"
    },
    "accelerator": "GPU"
  },
  "cells": [
    {
      "cell_type": "markdown",
      "metadata": {
        "id": "view-in-github",
        "colab_type": "text"
      },
      "source": [
        "<a href=\"https://colab.research.google.com/github/gyujeong829/Fundly/blob/master/lstm_timeseries_%EA%B3%A0%EC%A0%95%EA%B9%8C%EC%A7%80.ipynb\" target=\"_parent\"><img src=\"https://colab.research.google.com/assets/colab-badge.svg\" alt=\"Open In Colab\"/></a>"
      ]
    },
    {
      "cell_type": "markdown",
      "metadata": {
        "id": "LFFZ6ZbAk2X-",
        "colab_type": "text"
      },
      "source": [
        "csv불러오기"
      ]
    },
    {
      "cell_type": "code",
      "metadata": {
        "id": "cqbpuhBXbXOv",
        "colab_type": "code",
        "colab": {}
      },
      "source": [
        "import numpy as np\n",
        "import pandas as pd\n",
        "import matplotlib.pyplot as plt\n",
        "%matplotlib inline\n",
        "from statsmodels.tools.eval_measures import rmse\n",
        "from sklearn.preprocessing import MinMaxScaler\n",
        "from keras.preprocessing.sequence import TimeseriesGenerator\n",
        "from keras.models import Sequential\n",
        "from keras.layers import Dense\n",
        "from keras.layers import LSTM\n",
        "from keras.layers import Dropout\n",
        "import warnings\n",
        "\n",
        "\n",
        "warnings.filterwarnings(\"ignore\")\n",
        "df=pd.read_csv(\"/content/sample_data/01.유경PSG액티브밸류증권투자신탁(주식)ClassS.csv\")"
      ],
      "execution_count": null,
      "outputs": []
    },
    {
      "cell_type": "code",
      "metadata": {
        "id": "Mhl7X8-XyZ6t",
        "colab_type": "code",
        "colab": {}
      },
      "source": [
        "# 랜덤시드 고정시키기\n",
        "#fix random seed for reproducibility\n",
        "seed = 7\n",
        "np.random.seed(seed)\n"
      ],
      "execution_count": null,
      "outputs": []
    },
    {
      "cell_type": "code",
      "metadata": {
        "id": "jlz54I6ysLXr",
        "colab_type": "code",
        "colab": {
          "base_uri": "https://localhost:8080/",
          "height": 34
        },
        "outputId": "00a79330-9b32-41c0-de90-34db6303eaa7"
      },
      "source": [
        "from google.colab import drive\n",
        "drive.mount('/content/drive')"
      ],
      "execution_count": null,
      "outputs": [
        {
          "output_type": "stream",
          "text": [
            "Drive already mounted at /content/drive; to attempt to forcibly remount, call drive.mount(\"/content/drive\", force_remount=True).\n"
          ],
          "name": "stdout"
        }
      ]
    },
    {
      "cell_type": "code",
      "metadata": {
        "id": "d6d2YrSNcZBL",
        "colab_type": "code",
        "colab": {
          "base_uri": "https://localhost:8080/",
          "height": 195
        },
        "outputId": "50231ab5-615c-4745-d12f-9f90f4a8fcf4"
      },
      "source": [
        "#데이터셋의 5행까지 출력\n",
        "df.head()"
      ],
      "execution_count": null,
      "outputs": [
        {
          "output_type": "execute_result",
          "data": {
            "text/html": [
              "<div>\n",
              "<style scoped>\n",
              "    .dataframe tbody tr th:only-of-type {\n",
              "        vertical-align: middle;\n",
              "    }\n",
              "\n",
              "    .dataframe tbody tr th {\n",
              "        vertical-align: top;\n",
              "    }\n",
              "\n",
              "    .dataframe thead th {\n",
              "        text-align: right;\n",
              "    }\n",
              "</style>\n",
              "<table border=\"1\" class=\"dataframe\">\n",
              "  <thead>\n",
              "    <tr style=\"text-align: right;\">\n",
              "      <th></th>\n",
              "      <th>date</th>\n",
              "      <th>price</th>\n",
              "    </tr>\n",
              "  </thead>\n",
              "  <tbody>\n",
              "    <tr>\n",
              "      <th>0</th>\n",
              "      <td>2016.08.17</td>\n",
              "      <td>1000.00</td>\n",
              "    </tr>\n",
              "    <tr>\n",
              "      <th>1</th>\n",
              "      <td>2016.08.18</td>\n",
              "      <td>998.57</td>\n",
              "    </tr>\n",
              "    <tr>\n",
              "      <th>2</th>\n",
              "      <td>2016.08.19</td>\n",
              "      <td>1007.66</td>\n",
              "    </tr>\n",
              "    <tr>\n",
              "      <th>3</th>\n",
              "      <td>2016.08.22</td>\n",
              "      <td>1004.85</td>\n",
              "    </tr>\n",
              "    <tr>\n",
              "      <th>4</th>\n",
              "      <td>2016.08.23</td>\n",
              "      <td>997.55</td>\n",
              "    </tr>\n",
              "  </tbody>\n",
              "</table>\n",
              "</div>"
            ],
            "text/plain": [
              "          date    price\n",
              "0  2016.08.17   1000.00\n",
              "1  2016.08.18    998.57\n",
              "2  2016.08.19   1007.66\n",
              "3  2016.08.22   1004.85\n",
              "4  2016.08.23    997.55"
            ]
          },
          "metadata": {
            "tags": []
          },
          "execution_count": 155
        }
      ]
    },
    {
      "cell_type": "markdown",
      "metadata": {
        "id": "MJCd2Lmuk7IZ",
        "colab_type": "text"
      },
      "source": [
        "인덱스 date로 설정해줌"
      ]
    },
    {
      "cell_type": "code",
      "metadata": {
        "id": "OgeeQnygcrb_",
        "colab_type": "code",
        "colab": {}
      },
      "source": [
        "df.date=pd.to_datetime(df.date)\n",
        "df=df.set_index(\"date\")"
      ],
      "execution_count": null,
      "outputs": []
    },
    {
      "cell_type": "code",
      "metadata": {
        "id": "hCWY3dUhdSag",
        "colab_type": "code",
        "colab": {
          "base_uri": "https://localhost:8080/",
          "height": 225
        },
        "outputId": "18c6aaf0-cfb6-4973-8304-87dcfe49a2d7"
      },
      "source": [
        "df.head()"
      ],
      "execution_count": null,
      "outputs": [
        {
          "output_type": "execute_result",
          "data": {
            "text/html": [
              "<div>\n",
              "<style scoped>\n",
              "    .dataframe tbody tr th:only-of-type {\n",
              "        vertical-align: middle;\n",
              "    }\n",
              "\n",
              "    .dataframe tbody tr th {\n",
              "        vertical-align: top;\n",
              "    }\n",
              "\n",
              "    .dataframe thead th {\n",
              "        text-align: right;\n",
              "    }\n",
              "</style>\n",
              "<table border=\"1\" class=\"dataframe\">\n",
              "  <thead>\n",
              "    <tr style=\"text-align: right;\">\n",
              "      <th></th>\n",
              "      <th>price</th>\n",
              "    </tr>\n",
              "    <tr>\n",
              "      <th>date</th>\n",
              "      <th></th>\n",
              "    </tr>\n",
              "  </thead>\n",
              "  <tbody>\n",
              "    <tr>\n",
              "      <th>2016-08-17</th>\n",
              "      <td>1000.00</td>\n",
              "    </tr>\n",
              "    <tr>\n",
              "      <th>2016-08-18</th>\n",
              "      <td>998.57</td>\n",
              "    </tr>\n",
              "    <tr>\n",
              "      <th>2016-08-19</th>\n",
              "      <td>1007.66</td>\n",
              "    </tr>\n",
              "    <tr>\n",
              "      <th>2016-08-22</th>\n",
              "      <td>1004.85</td>\n",
              "    </tr>\n",
              "    <tr>\n",
              "      <th>2016-08-23</th>\n",
              "      <td>997.55</td>\n",
              "    </tr>\n",
              "  </tbody>\n",
              "</table>\n",
              "</div>"
            ],
            "text/plain": [
              "              price\n",
              "date               \n",
              "2016-08-17  1000.00\n",
              "2016-08-18   998.57\n",
              "2016-08-19  1007.66\n",
              "2016-08-22  1004.85\n",
              "2016-08-23   997.55"
            ]
          },
          "metadata": {
            "tags": []
          },
          "execution_count": 157
        }
      ]
    },
    {
      "cell_type": "markdown",
      "metadata": {
        "id": "C0_uUo8SWMKY",
        "colab_type": "text"
      },
      "source": [
        ""
      ]
    },
    {
      "cell_type": "markdown",
      "metadata": {
        "id": "cou2-WlPk_NS",
        "colab_type": "text"
      },
      "source": [
        "400일로 바꿔줌"
      ]
    },
    {
      "cell_type": "code",
      "metadata": {
        "id": "JlIIawG2dWDc",
        "colab_type": "code",
        "colab": {}
      },
      "source": [
        "#train, test =df[:-800], df[-800:]\n",
        "from sklearn.model_selection import train_test_split\n",
        "train,test = train_test_split(df, test_size=0.1, shuffle=False)"
      ],
      "execution_count": null,
      "outputs": []
    },
    {
      "cell_type": "code",
      "metadata": {
        "id": "8erzjovado2D",
        "colab_type": "code",
        "colab": {}
      },
      "source": [
        "scaler=MinMaxScaler()\n",
        "scaler.fit(train)\n",
        "train=scaler.transform(train)\n",
        "test=scaler.transform(test)"
      ],
      "execution_count": null,
      "outputs": []
    },
    {
      "cell_type": "code",
      "metadata": {
        "id": "XZY4oDWjd69q",
        "colab_type": "code",
        "colab": {
          "base_uri": "https://localhost:8080/",
          "height": 1000
        },
        "outputId": "b45bbdd9-ccce-49c9-f361-1b0f8c4571e3"
      },
      "source": [
        "n_input=30        #입력 개수\n",
        "n_features=1      #독립변수의 수\n",
        "\n",
        "generator=TimeseriesGenerator(train, train,length=n_input, batch_size=15)\n",
        "\n",
        "model = Sequential()\n",
        "model.add(LSTM(200, activation='relu', input_shape=(n_input, n_features)))\n",
        "#model.add(Dropout(0.15))\n",
        "model.add(Dense(1))\n",
        "model.compile(optimizer='adam', loss='mse')\n",
        "model.fit_generator(generator, epochs=100)\n"
      ],
      "execution_count": null,
      "outputs": [
        {
          "output_type": "stream",
          "text": [
            "Epoch 1/100\n",
            "54/54 [==============================] - 3s 58ms/step - loss: 0.0552\n",
            "Epoch 2/100\n",
            "54/54 [==============================] - 3s 54ms/step - loss: 0.0077\n",
            "Epoch 3/100\n",
            "54/54 [==============================] - 3s 54ms/step - loss: 0.0093\n",
            "Epoch 4/100\n",
            "54/54 [==============================] - 3s 54ms/step - loss: 0.0036\n",
            "Epoch 5/100\n",
            "54/54 [==============================] - 3s 55ms/step - loss: 0.0034\n",
            "Epoch 6/100\n",
            "54/54 [==============================] - 3s 52ms/step - loss: 0.0031\n",
            "Epoch 7/100\n",
            "54/54 [==============================] - 3s 55ms/step - loss: 0.0028\n",
            "Epoch 8/100\n",
            "54/54 [==============================] - 3s 55ms/step - loss: 0.0035\n",
            "Epoch 9/100\n",
            "54/54 [==============================] - 3s 52ms/step - loss: 0.0026\n",
            "Epoch 10/100\n",
            "54/54 [==============================] - 3s 55ms/step - loss: 0.0043\n",
            "Epoch 11/100\n",
            "54/54 [==============================] - 3s 52ms/step - loss: 0.0026\n",
            "Epoch 12/100\n",
            "54/54 [==============================] - 3s 52ms/step - loss: 0.0027\n",
            "Epoch 13/100\n",
            "54/54 [==============================] - 3s 53ms/step - loss: 0.0019\n",
            "Epoch 14/100\n",
            "54/54 [==============================] - 3s 54ms/step - loss: 0.0020\n",
            "Epoch 15/100\n",
            "54/54 [==============================] - 3s 53ms/step - loss: 0.0020\n",
            "Epoch 16/100\n",
            "54/54 [==============================] - 3s 52ms/step - loss: 0.0025\n",
            "Epoch 17/100\n",
            "54/54 [==============================] - 3s 51ms/step - loss: 0.0026\n",
            "Epoch 18/100\n",
            "54/54 [==============================] - 3s 53ms/step - loss: 0.0016\n",
            "Epoch 19/100\n",
            "54/54 [==============================] - 3s 52ms/step - loss: 0.0022\n",
            "Epoch 20/100\n",
            "54/54 [==============================] - 3s 54ms/step - loss: 0.0013\n",
            "Epoch 21/100\n",
            "54/54 [==============================] - 3s 54ms/step - loss: 0.0014\n",
            "Epoch 22/100\n",
            "54/54 [==============================] - 3s 54ms/step - loss: 0.0015\n",
            "Epoch 23/100\n",
            "54/54 [==============================] - 3s 54ms/step - loss: 0.0013\n",
            "Epoch 24/100\n",
            "54/54 [==============================] - 3s 53ms/step - loss: 0.0014\n",
            "Epoch 25/100\n",
            "54/54 [==============================] - 3s 54ms/step - loss: 0.0013\n",
            "Epoch 26/100\n",
            "54/54 [==============================] - 3s 52ms/step - loss: 0.0012\n",
            "Epoch 27/100\n",
            "54/54 [==============================] - 3s 54ms/step - loss: 0.0014\n",
            "Epoch 28/100\n",
            "54/54 [==============================] - 3s 51ms/step - loss: 0.0013\n",
            "Epoch 29/100\n",
            "54/54 [==============================] - 3s 53ms/step - loss: 0.0013\n",
            "Epoch 30/100\n",
            "54/54 [==============================] - 3s 52ms/step - loss: 0.0011\n",
            "Epoch 31/100\n",
            "54/54 [==============================] - 3s 53ms/step - loss: 0.0010\n",
            "Epoch 32/100\n",
            "54/54 [==============================] - 3s 53ms/step - loss: 0.0012\n",
            "Epoch 33/100\n",
            "54/54 [==============================] - 3s 54ms/step - loss: 0.0011\n",
            "Epoch 34/100\n",
            "54/54 [==============================] - 3s 53ms/step - loss: 0.0011\n",
            "Epoch 35/100\n",
            "54/54 [==============================] - 3s 52ms/step - loss: 0.0014\n",
            "Epoch 36/100\n",
            "54/54 [==============================] - 3s 53ms/step - loss: 0.0012\n",
            "Epoch 37/100\n",
            "54/54 [==============================] - 3s 53ms/step - loss: 0.0011\n",
            "Epoch 38/100\n",
            "54/54 [==============================] - 3s 51ms/step - loss: 9.9970e-04\n",
            "Epoch 39/100\n",
            "54/54 [==============================] - 3s 56ms/step - loss: 0.0011\n",
            "Epoch 40/100\n",
            "54/54 [==============================] - 3s 52ms/step - loss: 8.4158e-04\n",
            "Epoch 41/100\n",
            "54/54 [==============================] - 3s 53ms/step - loss: 9.2524e-04\n",
            "Epoch 42/100\n",
            "54/54 [==============================] - 3s 57ms/step - loss: 8.3590e-04\n",
            "Epoch 43/100\n",
            "54/54 [==============================] - 3s 64ms/step - loss: 9.5368e-04\n",
            "Epoch 44/100\n",
            "54/54 [==============================] - 3s 58ms/step - loss: 9.1268e-04\n",
            "Epoch 45/100\n",
            "54/54 [==============================] - 3s 58ms/step - loss: 9.8821e-04\n",
            "Epoch 46/100\n",
            "54/54 [==============================] - 3s 57ms/step - loss: 0.0011\n",
            "Epoch 47/100\n",
            "54/54 [==============================] - 3s 57ms/step - loss: 9.6391e-04\n",
            "Epoch 48/100\n",
            "54/54 [==============================] - 3s 55ms/step - loss: 9.3426e-04\n",
            "Epoch 49/100\n",
            "54/54 [==============================] - 3s 55ms/step - loss: 8.8319e-04\n",
            "Epoch 50/100\n",
            "54/54 [==============================] - 3s 58ms/step - loss: 8.2271e-04\n",
            "Epoch 51/100\n",
            "54/54 [==============================] - 3s 57ms/step - loss: 9.5104e-04\n",
            "Epoch 52/100\n",
            "54/54 [==============================] - 3s 56ms/step - loss: 7.6590e-04\n",
            "Epoch 53/100\n",
            "54/54 [==============================] - 3s 57ms/step - loss: 7.1262e-04\n",
            "Epoch 54/100\n",
            "54/54 [==============================] - 3s 55ms/step - loss: 6.6381e-04\n",
            "Epoch 55/100\n",
            "54/54 [==============================] - 3s 57ms/step - loss: 6.6057e-04\n",
            "Epoch 56/100\n",
            "54/54 [==============================] - 3s 55ms/step - loss: 6.4466e-04\n",
            "Epoch 57/100\n",
            "54/54 [==============================] - 3s 56ms/step - loss: 7.4878e-04\n",
            "Epoch 58/100\n",
            "54/54 [==============================] - 3s 56ms/step - loss: 7.1802e-04\n",
            "Epoch 59/100\n",
            "54/54 [==============================] - 3s 56ms/step - loss: 6.3842e-04\n",
            "Epoch 60/100\n",
            "54/54 [==============================] - 3s 53ms/step - loss: 6.3376e-04\n",
            "Epoch 61/100\n",
            "54/54 [==============================] - 3s 54ms/step - loss: 6.2275e-04\n",
            "Epoch 62/100\n",
            "54/54 [==============================] - 3s 52ms/step - loss: 7.2007e-04\n",
            "Epoch 63/100\n",
            "54/54 [==============================] - 3s 55ms/step - loss: 8.5814e-04\n",
            "Epoch 64/100\n",
            "54/54 [==============================] - 3s 55ms/step - loss: 9.2743e-04\n",
            "Epoch 65/100\n",
            "54/54 [==============================] - 3s 53ms/step - loss: 6.7415e-04\n",
            "Epoch 66/100\n",
            "54/54 [==============================] - 3s 55ms/step - loss: 7.4659e-04\n",
            "Epoch 67/100\n",
            "54/54 [==============================] - 3s 52ms/step - loss: 6.4924e-04\n",
            "Epoch 68/100\n",
            "54/54 [==============================] - 3s 53ms/step - loss: 7.8300e-04\n",
            "Epoch 69/100\n",
            "54/54 [==============================] - 3s 54ms/step - loss: 5.9557e-04\n",
            "Epoch 70/100\n",
            "54/54 [==============================] - 3s 54ms/step - loss: 5.6208e-04\n",
            "Epoch 71/100\n",
            "54/54 [==============================] - 3s 54ms/step - loss: 5.6696e-04\n",
            "Epoch 72/100\n",
            "54/54 [==============================] - 3s 53ms/step - loss: 6.0147e-04\n",
            "Epoch 73/100\n",
            "54/54 [==============================] - 3s 53ms/step - loss: 6.2200e-04\n",
            "Epoch 74/100\n",
            "54/54 [==============================] - 3s 56ms/step - loss: 5.5723e-04\n",
            "Epoch 75/100\n",
            "54/54 [==============================] - 3s 54ms/step - loss: 7.4127e-04\n",
            "Epoch 76/100\n",
            "54/54 [==============================] - 3s 56ms/step - loss: 7.0855e-04\n",
            "Epoch 77/100\n",
            "54/54 [==============================] - 3s 53ms/step - loss: 5.6022e-04\n",
            "Epoch 78/100\n",
            "54/54 [==============================] - 3s 54ms/step - loss: 6.1019e-04\n",
            "Epoch 79/100\n",
            "54/54 [==============================] - 3s 55ms/step - loss: 6.8426e-04\n",
            "Epoch 80/100\n",
            "54/54 [==============================] - 3s 53ms/step - loss: 5.4826e-04\n",
            "Epoch 81/100\n",
            "54/54 [==============================] - 3s 53ms/step - loss: 5.5465e-04\n",
            "Epoch 82/100\n",
            "54/54 [==============================] - 3s 55ms/step - loss: 5.5287e-04\n",
            "Epoch 83/100\n",
            "54/54 [==============================] - 3s 51ms/step - loss: 7.4310e-04\n",
            "Epoch 84/100\n",
            "54/54 [==============================] - 3s 56ms/step - loss: 5.5686e-04\n",
            "Epoch 85/100\n",
            "54/54 [==============================] - 3s 53ms/step - loss: 5.3484e-04\n",
            "Epoch 86/100\n",
            "54/54 [==============================] - 3s 55ms/step - loss: 5.1662e-04\n",
            "Epoch 87/100\n",
            "54/54 [==============================] - 3s 55ms/step - loss: 5.5347e-04\n",
            "Epoch 88/100\n",
            "54/54 [==============================] - 3s 57ms/step - loss: 5.2340e-04\n",
            "Epoch 89/100\n",
            "54/54 [==============================] - 3s 56ms/step - loss: 5.3663e-04\n",
            "Epoch 90/100\n",
            "54/54 [==============================] - 3s 53ms/step - loss: 5.2840e-04\n",
            "Epoch 91/100\n",
            "54/54 [==============================] - 3s 54ms/step - loss: 5.2183e-04\n",
            "Epoch 92/100\n",
            "54/54 [==============================] - 3s 55ms/step - loss: 5.0683e-04\n",
            "Epoch 93/100\n",
            "54/54 [==============================] - 3s 52ms/step - loss: 5.0126e-04\n",
            "Epoch 94/100\n",
            "54/54 [==============================] - 3s 54ms/step - loss: 5.2276e-04\n",
            "Epoch 95/100\n",
            "54/54 [==============================] - 3s 53ms/step - loss: 4.8029e-04\n",
            "Epoch 96/100\n",
            "54/54 [==============================] - 3s 54ms/step - loss: 5.3517e-04\n",
            "Epoch 97/100\n",
            "54/54 [==============================] - 3s 56ms/step - loss: 4.9477e-04\n",
            "Epoch 98/100\n",
            "54/54 [==============================] - 3s 56ms/step - loss: 5.3898e-04\n",
            "Epoch 99/100\n",
            "54/54 [==============================] - 3s 55ms/step - loss: 4.8083e-04\n",
            "Epoch 100/100\n",
            "54/54 [==============================] - 3s 54ms/step - loss: 5.2306e-04\n"
          ],
          "name": "stdout"
        },
        {
          "output_type": "execute_result",
          "data": {
            "text/plain": [
              "<keras.callbacks.callbacks.History at 0x7f6abc519d68>"
            ]
          },
          "metadata": {
            "tags": []
          },
          "execution_count": 161
        }
      ]
    },
    {
      "cell_type": "code",
      "metadata": {
        "id": "oE8NhWiheeZW",
        "colab_type": "code",
        "colab": {}
      },
      "source": [
        "pred_list=[]\n",
        "batch=train[-n_input:].reshape((1, n_input, n_features))\n",
        "\n",
        "for i in range(n_input):\n",
        "    pred_list.append(model.predict(batch)[0])\n",
        "    batch=np.append(batch[:,1:,:],[[pred_list[i]]], axis=1)\n"
      ],
      "execution_count": null,
      "outputs": []
    },
    {
      "cell_type": "code",
      "metadata": {
        "id": "gYzqwUWugOlZ",
        "colab_type": "code",
        "colab": {}
      },
      "source": [
        "\n",
        "df_predict=pd.DataFrame(scaler.inverse_transform(pred_list),index=df[-n_input:].index, columns=['Predictions'])\n",
        "df_test=pd.concat([df,df_predict],axis=1)"
      ],
      "execution_count": null,
      "outputs": []
    },
    {
      "cell_type": "code",
      "metadata": {
        "id": "bDDJEky4g0dk",
        "colab_type": "code",
        "colab": {
          "base_uri": "https://localhost:8080/",
          "height": 225
        },
        "outputId": "4aa4868b-59c6-4007-c61a-489470f41a6c"
      },
      "source": [
        "df_test.tail()"
      ],
      "execution_count": null,
      "outputs": [
        {
          "output_type": "execute_result",
          "data": {
            "text/html": [
              "<div>\n",
              "<style scoped>\n",
              "    .dataframe tbody tr th:only-of-type {\n",
              "        vertical-align: middle;\n",
              "    }\n",
              "\n",
              "    .dataframe tbody tr th {\n",
              "        vertical-align: top;\n",
              "    }\n",
              "\n",
              "    .dataframe thead th {\n",
              "        text-align: right;\n",
              "    }\n",
              "</style>\n",
              "<table border=\"1\" class=\"dataframe\">\n",
              "  <thead>\n",
              "    <tr style=\"text-align: right;\">\n",
              "      <th></th>\n",
              "      <th>price</th>\n",
              "      <th>Predictions</th>\n",
              "    </tr>\n",
              "    <tr>\n",
              "      <th>date</th>\n",
              "      <th></th>\n",
              "      <th></th>\n",
              "    </tr>\n",
              "  </thead>\n",
              "  <tbody>\n",
              "    <tr>\n",
              "      <th>2020-05-13</th>\n",
              "      <td>1015.55</td>\n",
              "      <td>1013.998290</td>\n",
              "    </tr>\n",
              "    <tr>\n",
              "      <th>2020-05-14</th>\n",
              "      <td>1022.45</td>\n",
              "      <td>1017.299050</td>\n",
              "    </tr>\n",
              "    <tr>\n",
              "      <th>2020-05-15</th>\n",
              "      <td>1035.55</td>\n",
              "      <td>1020.640897</td>\n",
              "    </tr>\n",
              "    <tr>\n",
              "      <th>2020-05-18</th>\n",
              "      <td>1044.87</td>\n",
              "      <td>1024.024513</td>\n",
              "    </tr>\n",
              "    <tr>\n",
              "      <th>2020-05-19</th>\n",
              "      <td>1038.09</td>\n",
              "      <td>1027.450635</td>\n",
              "    </tr>\n",
              "  </tbody>\n",
              "</table>\n",
              "</div>"
            ],
            "text/plain": [
              "              price  Predictions\n",
              "date                            \n",
              "2020-05-13  1015.55  1013.998290\n",
              "2020-05-14  1022.45  1017.299050\n",
              "2020-05-15  1035.55  1020.640897\n",
              "2020-05-18  1044.87  1024.024513\n",
              "2020-05-19  1038.09  1027.450635"
            ]
          },
          "metadata": {
            "tags": []
          },
          "execution_count": 164
        }
      ]
    },
    {
      "cell_type": "code",
      "metadata": {
        "id": "K3DP_5g69njO",
        "colab_type": "code",
        "colab": {}
      },
      "source": [
        "df_mse = df['2020.04.02':'2020.05.19']"
      ],
      "execution_count": null,
      "outputs": []
    },
    {
      "cell_type": "code",
      "metadata": {
        "id": "5gn_YYqv_LbH",
        "colab_type": "code",
        "colab": {
          "base_uri": "https://localhost:8080/",
          "height": 580
        },
        "outputId": "cdd4f7ea-8f42-472e-ff0f-d35495cb82ff"
      },
      "source": [
        "print(df_mse)"
      ],
      "execution_count": null,
      "outputs": [
        {
          "output_type": "stream",
          "text": [
            "              price\n",
            "date               \n",
            "2020-04-02   844.17\n",
            "2020-04-03   859.20\n",
            "2020-04-06   864.09\n",
            "2020-04-07   887.87\n",
            "2020-04-08   900.50\n",
            "2020-04-09   908.43\n",
            "2020-04-10   920.01\n",
            "2020-04-13   911.66\n",
            "2020-04-14   893.40\n",
            "2020-04-16   908.79\n",
            "2020-04-17   919.17\n",
            "2020-04-20   926.11\n",
            "2020-04-21   926.26\n",
            "2020-04-22   927.29\n",
            "2020-04-23   942.74\n",
            "2020-04-24   960.04\n",
            "2020-04-27   953.01\n",
            "2020-04-28   962.76\n",
            "2020-04-29   965.81\n",
            "2020-05-04   968.57\n",
            "2020-05-06   962.56\n",
            "2020-05-07   990.30\n",
            "2020-05-08   992.33\n",
            "2020-05-11  1003.90\n",
            "2020-05-12  1012.46\n",
            "2020-05-13  1015.55\n",
            "2020-05-14  1022.45\n",
            "2020-05-15  1035.55\n",
            "2020-05-18  1044.87\n",
            "2020-05-19  1038.09\n"
          ],
          "name": "stdout"
        }
      ]
    },
    {
      "cell_type": "code",
      "metadata": {
        "id": "ILXFKSS9xtCj",
        "colab_type": "code",
        "colab": {
          "base_uri": "https://localhost:8080/",
          "height": 34
        },
        "outputId": "809504e4-123d-4af4-b440-aaee3578d160"
      },
      "source": [
        "#RMSE 구하기      RMSE는 낮을수록 정밀도가 높음\n",
        "pred_actual_rmse = rmse(df_test.iloc[-n_input:, [0]], df_test.iloc[-n_input:, [1]])\n",
        "print(\"rmse: \", pred_actual_rmse)"
      ],
      "execution_count": null,
      "outputs": [
        {
          "output_type": "stream",
          "text": [
            "rmse:  [41.94618948]\n"
          ],
          "name": "stdout"
        }
      ]
    },
    {
      "cell_type": "code",
      "metadata": {
        "id": "GFDX0N8Xxyi6",
        "colab_type": "code",
        "colab": {
          "base_uri": "https://localhost:8080/",
          "height": 34
        },
        "outputId": "e330ff47-037f-4226-8298-37a881f39f90"
      },
      "source": [
        "#R2 구하기          1을 최대값으로 1에 가까울수록 좋음. 음의 수가 나올 경우 학습 시 머신에 잘못이 있음\n",
        "from sklearn.metrics import r2_score\n",
        "r2_y_predict = r2_score(df_mse,df_predict)\n",
        "print(\"R2: \", r2_y_predict)\n"
      ],
      "execution_count": null,
      "outputs": [
        {
          "output_type": "stream",
          "text": [
            "R2:  0.41105949520296625\n"
          ],
          "name": "stdout"
        }
      ]
    },
    {
      "cell_type": "code",
      "metadata": {
        "id": "NWgLRow4g3kh",
        "colab_type": "code",
        "colab": {
          "base_uri": "https://localhost:8080/",
          "height": 263
        },
        "outputId": "9a2e88ef-ca4a-4253-e70e-a4f01cd0a43e"
      },
      "source": [
        "plt.figure(figsize=(20,5))\n",
        "plt.plot(df_test.index, df_test['price'])   #df_test.index를 df_test['price']로 줌\n",
        "plt.plot(df_test.index, df_test['Predictions'],color='r')\n",
        "plt.show()"
      ],
      "execution_count": null,
      "outputs": [
        {
          "output_type": "display_data",
          "data": {
            "image/png": "[encoded data removed]",
            "text/plain": [
              "<Figure size 1440x360 with 1 Axes>"
            ]
          },
          "metadata": {
            "tags": [],
            "needs_background": "light"
          }
        }
      ]
    },
    {
      "cell_type": "code",
      "metadata": {
        "id": "NZVPp6pIhbPg",
        "colab_type": "code",
        "colab": {
          "base_uri": "https://localhost:8080/",
          "height": 1000
        },
        "outputId": "3200a786-a43e-4db1-fa75-76faf2f72df1"
      },
      "source": [
        "train=df    #train = whole data frame\n",
        "\n",
        "scaler.fit(train)\n",
        "train=scaler.transform(train)\n",
        "\n",
        "n_input=30\n",
        "n_features=1\n",
        "\n",
        "generator=TimeseriesGenerator(train, train,length=n_input, batch_size=15)\n",
        "\n",
        "model.fit_generator(generator, epochs=100)\n",
        "\n",
        "\n",
        "\n",
        "pred_list=[]\n",
        "batch=train[-n_input:].reshape((1, n_input, n_features))\n",
        "\n",
        "for i in range(n_input):\n",
        "    pred_list.append(model.predict(batch)[0])\n",
        "    batch=np.append(batch[:,1:,:],[[pred_list[i]]], axis=1)"
      ],
      "execution_count": null,
      "outputs": [
        {
          "output_type": "stream",
          "text": [
            "Epoch 1/100\n",
            "60/60 [==============================] - 3s 55ms/step - loss: 3.9630e-04\n",
            "Epoch 2/100\n",
            "60/60 [==============================] - 3s 56ms/step - loss: 3.5847e-04\n",
            "Epoch 3/100\n",
            "60/60 [==============================] - 3s 55ms/step - loss: 3.5448e-04\n",
            "Epoch 4/100\n",
            "60/60 [==============================] - 3s 54ms/step - loss: 3.4328e-04\n",
            "Epoch 5/100\n",
            "60/60 [==============================] - 3s 53ms/step - loss: 3.4769e-04\n",
            "Epoch 6/100\n",
            "60/60 [==============================] - 3s 53ms/step - loss: 3.6498e-04\n",
            "Epoch 7/100\n",
            "60/60 [==============================] - 3s 54ms/step - loss: 3.4798e-04\n",
            "Epoch 8/100\n",
            "60/60 [==============================] - 3s 54ms/step - loss: 4.0552e-04\n",
            "Epoch 9/100\n",
            "60/60 [==============================] - 3s 54ms/step - loss: 4.2507e-04\n",
            "Epoch 10/100\n",
            "60/60 [==============================] - 3s 54ms/step - loss: 3.4507e-04\n",
            "Epoch 11/100\n",
            "60/60 [==============================] - 3s 54ms/step - loss: 3.7653e-04\n",
            "Epoch 12/100\n",
            "60/60 [==============================] - 3s 56ms/step - loss: 3.8309e-04\n",
            "Epoch 13/100\n",
            "60/60 [==============================] - 3s 55ms/step - loss: 3.4066e-04\n",
            "Epoch 14/100\n",
            "60/60 [==============================] - 3s 53ms/step - loss: 3.5296e-04\n",
            "Epoch 15/100\n",
            "60/60 [==============================] - 3s 54ms/step - loss: 3.8750e-04\n",
            "Epoch 16/100\n",
            "60/60 [==============================] - 3s 54ms/step - loss: 3.5071e-04\n",
            "Epoch 17/100\n",
            "60/60 [==============================] - 3s 54ms/step - loss: 3.4470e-04\n",
            "Epoch 18/100\n",
            "60/60 [==============================] - 3s 54ms/step - loss: 4.4942e-04\n",
            "Epoch 19/100\n",
            "60/60 [==============================] - 3s 54ms/step - loss: 4.2249e-04\n",
            "Epoch 20/100\n",
            "60/60 [==============================] - 3s 55ms/step - loss: 3.6744e-04\n",
            "Epoch 21/100\n",
            "60/60 [==============================] - 3s 54ms/step - loss: 3.5112e-04\n",
            "Epoch 22/100\n",
            "60/60 [==============================] - 3s 56ms/step - loss: 3.7122e-04\n",
            "Epoch 23/100\n",
            "60/60 [==============================] - 3s 53ms/step - loss: 3.3649e-04\n",
            "Epoch 24/100\n",
            "60/60 [==============================] - 3s 54ms/step - loss: 3.2302e-04\n",
            "Epoch 25/100\n",
            "60/60 [==============================] - 3s 53ms/step - loss: 3.4436e-04\n",
            "Epoch 26/100\n",
            "60/60 [==============================] - 3s 53ms/step - loss: 3.4636e-04\n",
            "Epoch 27/100\n",
            "60/60 [==============================] - 3s 54ms/step - loss: 3.3229e-04\n",
            "Epoch 28/100\n",
            "60/60 [==============================] - 3s 55ms/step - loss: 3.2821e-04\n",
            "Epoch 29/100\n",
            "60/60 [==============================] - 3s 54ms/step - loss: 3.5188e-04\n",
            "Epoch 30/100\n",
            "60/60 [==============================] - 3s 54ms/step - loss: 3.4328e-04\n",
            "Epoch 31/100\n",
            "60/60 [==============================] - 3s 55ms/step - loss: 3.5683e-04\n",
            "Epoch 32/100\n",
            "60/60 [==============================] - 3s 55ms/step - loss: 5.4694e-04\n",
            "Epoch 33/100\n",
            "60/60 [==============================] - 3s 56ms/step - loss: 3.4385e-04\n",
            "Epoch 34/100\n",
            "60/60 [==============================] - 3s 54ms/step - loss: 3.6195e-04\n",
            "Epoch 35/100\n",
            "60/60 [==============================] - 3s 53ms/step - loss: 4.0039e-04\n",
            "Epoch 36/100\n",
            "60/60 [==============================] - 3s 51ms/step - loss: 3.3996e-04\n",
            "Epoch 37/100\n",
            "60/60 [==============================] - 3s 54ms/step - loss: 3.3004e-04\n",
            "Epoch 38/100\n",
            "60/60 [==============================] - 3s 56ms/step - loss: 3.3687e-04\n",
            "Epoch 39/100\n",
            "60/60 [==============================] - 3s 56ms/step - loss: 3.3170e-04\n",
            "Epoch 40/100\n",
            "60/60 [==============================] - 3s 53ms/step - loss: 3.2350e-04\n",
            "Epoch 41/100\n",
            "60/60 [==============================] - 3s 55ms/step - loss: 3.4172e-04\n",
            "Epoch 42/100\n",
            "60/60 [==============================] - 3s 54ms/step - loss: 3.7993e-04\n",
            "Epoch 43/100\n",
            "60/60 [==============================] - 3s 55ms/step - loss: 3.8035e-04\n",
            "Epoch 44/100\n",
            "60/60 [==============================] - 3s 54ms/step - loss: 3.3277e-04\n",
            "Epoch 45/100\n",
            "60/60 [==============================] - 3s 53ms/step - loss: 3.5184e-04\n",
            "Epoch 46/100\n",
            "60/60 [==============================] - 3s 53ms/step - loss: 3.5252e-04\n",
            "Epoch 47/100\n",
            "60/60 [==============================] - 3s 52ms/step - loss: 3.8464e-04\n",
            "Epoch 48/100\n",
            "60/60 [==============================] - 3s 56ms/step - loss: 3.6329e-04\n",
            "Epoch 49/100\n",
            "60/60 [==============================] - 3s 54ms/step - loss: 3.2096e-04\n",
            "Epoch 50/100\n",
            "60/60 [==============================] - 4s 61ms/step - loss: 3.4899e-04\n",
            "Epoch 51/100\n",
            "60/60 [==============================] - 4s 59ms/step - loss: 3.9081e-04\n",
            "Epoch 52/100\n",
            "60/60 [==============================] - 3s 55ms/step - loss: 3.6841e-04\n",
            "Epoch 53/100\n",
            "60/60 [==============================] - 3s 54ms/step - loss: 3.5362e-04\n",
            "Epoch 54/100\n",
            "60/60 [==============================] - 3s 53ms/step - loss: 3.3348e-04\n",
            "Epoch 55/100\n",
            "60/60 [==============================] - 3s 54ms/step - loss: 3.3582e-04\n",
            "Epoch 56/100\n",
            "60/60 [==============================] - 3s 53ms/step - loss: 3.2410e-04\n",
            "Epoch 57/100\n",
            "60/60 [==============================] - 3s 54ms/step - loss: 3.6902e-04\n",
            "Epoch 58/100\n",
            "60/60 [==============================] - 3s 51ms/step - loss: 3.2221e-04\n",
            "Epoch 59/100\n",
            "60/60 [==============================] - 3s 52ms/step - loss: 3.1930e-04\n",
            "Epoch 60/100\n",
            "60/60 [==============================] - 3s 52ms/step - loss: 3.3444e-04\n",
            "Epoch 61/100\n",
            "60/60 [==============================] - 3s 53ms/step - loss: 3.2439e-04\n",
            "Epoch 62/100\n",
            "60/60 [==============================] - 3s 53ms/step - loss: 3.5188e-04\n",
            "Epoch 63/100\n",
            "60/60 [==============================] - 3s 53ms/step - loss: 3.3391e-04\n",
            "Epoch 64/100\n",
            "60/60 [==============================] - 3s 50ms/step - loss: 3.4584e-04\n",
            "Epoch 65/100\n",
            "60/60 [==============================] - 3s 54ms/step - loss: 3.3019e-04\n",
            "Epoch 66/100\n",
            "60/60 [==============================] - 3s 52ms/step - loss: 3.2059e-04\n",
            "Epoch 67/100\n",
            "60/60 [==============================] - 3s 51ms/step - loss: 3.3604e-04\n",
            "Epoch 68/100\n",
            "60/60 [==============================] - 3s 53ms/step - loss: 3.6970e-04\n",
            "Epoch 69/100\n",
            "60/60 [==============================] - 3s 51ms/step - loss: 3.3306e-04\n",
            "Epoch 70/100\n",
            "60/60 [==============================] - 3s 52ms/step - loss: 3.2696e-04\n",
            "Epoch 71/100\n",
            "60/60 [==============================] - 3s 54ms/step - loss: 3.3892e-04\n",
            "Epoch 72/100\n",
            "60/60 [==============================] - 3s 54ms/step - loss: 3.8690e-04\n",
            "Epoch 73/100\n",
            "60/60 [==============================] - 3s 52ms/step - loss: 3.2031e-04\n",
            "Epoch 74/100\n",
            "60/60 [==============================] - 3s 52ms/step - loss: 3.5698e-04\n",
            "Epoch 75/100\n",
            "60/60 [==============================] - 3s 54ms/step - loss: 3.3220e-04\n",
            "Epoch 76/100\n",
            "60/60 [==============================] - 3s 54ms/step - loss: 3.4497e-04\n",
            "Epoch 77/100\n",
            "60/60 [==============================] - 3s 55ms/step - loss: 3.1605e-04\n",
            "Epoch 78/100\n",
            "60/60 [==============================] - 3s 54ms/step - loss: 3.7435e-04\n",
            "Epoch 79/100\n",
            "60/60 [==============================] - 3s 53ms/step - loss: 3.3026e-04\n",
            "Epoch 80/100\n",
            "60/60 [==============================] - 3s 54ms/step - loss: 3.1805e-04\n",
            "Epoch 81/100\n",
            "60/60 [==============================] - 3s 55ms/step - loss: 3.5917e-04\n",
            "Epoch 82/100\n",
            "60/60 [==============================] - 3s 54ms/step - loss: 3.5348e-04\n",
            "Epoch 83/100\n",
            "60/60 [==============================] - 3s 54ms/step - loss: 3.3321e-04\n",
            "Epoch 84/100\n",
            "60/60 [==============================] - 3s 54ms/step - loss: 3.2858e-04\n",
            "Epoch 85/100\n",
            "60/60 [==============================] - 3s 53ms/step - loss: 4.5644e-04\n",
            "Epoch 86/100\n",
            "60/60 [==============================] - 3s 54ms/step - loss: 4.3022e-04\n",
            "Epoch 87/100\n",
            "60/60 [==============================] - 3s 54ms/step - loss: 3.5263e-04\n",
            "Epoch 88/100\n",
            "60/60 [==============================] - 3s 56ms/step - loss: 3.4126e-04\n",
            "Epoch 89/100\n",
            "60/60 [==============================] - 3s 55ms/step - loss: 3.1514e-04\n",
            "Epoch 90/100\n",
            "60/60 [==============================] - 3s 56ms/step - loss: 3.1988e-04\n",
            "Epoch 91/100\n",
            "60/60 [==============================] - 3s 55ms/step - loss: 3.3613e-04\n",
            "Epoch 92/100\n",
            "60/60 [==============================] - 3s 57ms/step - loss: 3.4166e-04\n",
            "Epoch 93/100\n",
            "60/60 [==============================] - 3s 55ms/step - loss: 3.3660e-04\n",
            "Epoch 94/100\n",
            "60/60 [==============================] - 3s 57ms/step - loss: 3.2471e-04\n",
            "Epoch 95/100\n",
            "60/60 [==============================] - 3s 54ms/step - loss: 3.2733e-04\n",
            "Epoch 96/100\n",
            "60/60 [==============================] - 3s 55ms/step - loss: 3.1986e-04\n",
            "Epoch 97/100\n",
            "60/60 [==============================] - 3s 55ms/step - loss: 3.1035e-04\n",
            "Epoch 98/100\n",
            "60/60 [==============================] - 3s 56ms/step - loss: 3.6269e-04\n",
            "Epoch 99/100\n",
            "60/60 [==============================] - 3s 55ms/step - loss: 3.1581e-04\n",
            "Epoch 100/100\n",
            "60/60 [==============================] - 3s 54ms/step - loss: 3.1577e-04\n"
          ],
          "name": "stdout"
        }
      ]
    },
    {
      "cell_type": "markdown",
      "metadata": {
        "id": "sAnwOmIenwoQ",
        "colab_type": "text"
      },
      "source": [
        "months>days로 바꿈 30일 예측함"
      ]
    },
    {
      "cell_type": "code",
      "metadata": {
        "id": "_gmaZZutiSBV",
        "colab_type": "code",
        "colab": {}
      },
      "source": [
        "from pandas.tseries.offsets import DateOffset\n",
        "add_dates=[df.index[-1]+DateOffset(days=x)for x in range(0,31)]\n",
        "future_dates=pd.DataFrame(index=add_dates[1:], columns=df.columns)"
      ],
      "execution_count": null,
      "outputs": []
    },
    {
      "cell_type": "code",
      "metadata": {
        "id": "6nCgJbbsjCLa",
        "colab_type": "code",
        "colab": {
          "base_uri": "https://localhost:8080/",
          "height": 195
        },
        "outputId": "ed288676-bd41-45dd-fe11-30a4cbb7729e"
      },
      "source": [
        "\n",
        "future_dates.tail()"
      ],
      "execution_count": null,
      "outputs": [
        {
          "output_type": "execute_result",
          "data": {
            "text/html": [
              "<div>\n",
              "<style scoped>\n",
              "    .dataframe tbody tr th:only-of-type {\n",
              "        vertical-align: middle;\n",
              "    }\n",
              "\n",
              "    .dataframe tbody tr th {\n",
              "        vertical-align: top;\n",
              "    }\n",
              "\n",
              "    .dataframe thead th {\n",
              "        text-align: right;\n",
              "    }\n",
              "</style>\n",
              "<table border=\"1\" class=\"dataframe\">\n",
              "  <thead>\n",
              "    <tr style=\"text-align: right;\">\n",
              "      <th></th>\n",
              "      <th>price</th>\n",
              "    </tr>\n",
              "  </thead>\n",
              "  <tbody>\n",
              "    <tr>\n",
              "      <th>2020-06-14</th>\n",
              "      <td>NaN</td>\n",
              "    </tr>\n",
              "    <tr>\n",
              "      <th>2020-06-15</th>\n",
              "      <td>NaN</td>\n",
              "    </tr>\n",
              "    <tr>\n",
              "      <th>2020-06-16</th>\n",
              "      <td>NaN</td>\n",
              "    </tr>\n",
              "    <tr>\n",
              "      <th>2020-06-17</th>\n",
              "      <td>NaN</td>\n",
              "    </tr>\n",
              "    <tr>\n",
              "      <th>2020-06-18</th>\n",
              "      <td>NaN</td>\n",
              "    </tr>\n",
              "  </tbody>\n",
              "</table>\n",
              "</div>"
            ],
            "text/plain": [
              "           price\n",
              "2020-06-14   NaN\n",
              "2020-06-15   NaN\n",
              "2020-06-16   NaN\n",
              "2020-06-17   NaN\n",
              "2020-06-18   NaN"
            ]
          },
          "metadata": {
            "tags": []
          },
          "execution_count": 172
        }
      ]
    },
    {
      "cell_type": "code",
      "metadata": {
        "id": "5ZXvSdkBjPBM",
        "colab_type": "code",
        "colab": {}
      },
      "source": [
        "df_predict=pd.DataFrame(scaler.inverse_transform(pred_list),\n",
        "                        index=future_dates[-n_input:].index, columns=['Prediction'])\n",
        "\n",
        "#df_proj는 기존의 df와 df_predict를 결합하여 한 눈에 보기 쉽게 하기 위함\n",
        "df_proj=pd.concat([df,df_predict],axis=1)"
      ],
      "execution_count": null,
      "outputs": []
    },
    {
      "cell_type": "markdown",
      "metadata": {
        "id": "IFP5q0Ojl0tY",
        "colab_type": "text"
      },
      "source": [
        "14로 보면 12개월 예측해서밑에는 예측값, 위에는 실제값 나옴"
      ]
    },
    {
      "cell_type": "code",
      "metadata": {
        "id": "sxXXTh7zj3Kw",
        "colab_type": "code",
        "colab": {
          "base_uri": "https://localhost:8080/",
          "height": 965
        },
        "outputId": "ed0aa1f1-3e9d-44d8-8355-0e22ad3ec021"
      },
      "source": [
        "#5월 20일의 값부터 30일 동안의 값을 예측한 결과\n",
        "df_proj.tail(31)"
      ],
      "execution_count": null,
      "outputs": [
        {
          "output_type": "execute_result",
          "data": {
            "text/html": [
              "<div>\n",
              "<style scoped>\n",
              "    .dataframe tbody tr th:only-of-type {\n",
              "        vertical-align: middle;\n",
              "    }\n",
              "\n",
              "    .dataframe tbody tr th {\n",
              "        vertical-align: top;\n",
              "    }\n",
              "\n",
              "    .dataframe thead th {\n",
              "        text-align: right;\n",
              "    }\n",
              "</style>\n",
              "<table border=\"1\" class=\"dataframe\">\n",
              "  <thead>\n",
              "    <tr style=\"text-align: right;\">\n",
              "      <th></th>\n",
              "      <th>price</th>\n",
              "      <th>Prediction</th>\n",
              "    </tr>\n",
              "  </thead>\n",
              "  <tbody>\n",
              "    <tr>\n",
              "      <th>2020-05-19</th>\n",
              "      <td>1038.09</td>\n",
              "      <td>NaN</td>\n",
              "    </tr>\n",
              "    <tr>\n",
              "      <th>2020-05-20</th>\n",
              "      <td>NaN</td>\n",
              "      <td>1043.242156</td>\n",
              "    </tr>\n",
              "    <tr>\n",
              "      <th>2020-05-21</th>\n",
              "      <td>NaN</td>\n",
              "      <td>1047.128561</td>\n",
              "    </tr>\n",
              "    <tr>\n",
              "      <th>2020-05-22</th>\n",
              "      <td>NaN</td>\n",
              "      <td>1051.049885</td>\n",
              "    </tr>\n",
              "    <tr>\n",
              "      <th>2020-05-23</th>\n",
              "      <td>NaN</td>\n",
              "      <td>1055.404968</td>\n",
              "    </tr>\n",
              "    <tr>\n",
              "      <th>2020-05-24</th>\n",
              "      <td>NaN</td>\n",
              "      <td>1059.904960</td>\n",
              "    </tr>\n",
              "    <tr>\n",
              "      <th>2020-05-25</th>\n",
              "      <td>NaN</td>\n",
              "      <td>1064.452628</td>\n",
              "    </tr>\n",
              "    <tr>\n",
              "      <th>2020-05-26</th>\n",
              "      <td>NaN</td>\n",
              "      <td>1068.965327</td>\n",
              "    </tr>\n",
              "    <tr>\n",
              "      <th>2020-05-27</th>\n",
              "      <td>NaN</td>\n",
              "      <td>1073.409612</td>\n",
              "    </tr>\n",
              "    <tr>\n",
              "      <th>2020-05-28</th>\n",
              "      <td>NaN</td>\n",
              "      <td>1077.778215</td>\n",
              "    </tr>\n",
              "    <tr>\n",
              "      <th>2020-05-29</th>\n",
              "      <td>NaN</td>\n",
              "      <td>1082.054211</td>\n",
              "    </tr>\n",
              "    <tr>\n",
              "      <th>2020-05-30</th>\n",
              "      <td>NaN</td>\n",
              "      <td>1086.248630</td>\n",
              "    </tr>\n",
              "    <tr>\n",
              "      <th>2020-05-31</th>\n",
              "      <td>NaN</td>\n",
              "      <td>1090.371077</td>\n",
              "    </tr>\n",
              "    <tr>\n",
              "      <th>2020-06-01</th>\n",
              "      <td>NaN</td>\n",
              "      <td>1094.432277</td>\n",
              "    </tr>\n",
              "    <tr>\n",
              "      <th>2020-06-02</th>\n",
              "      <td>NaN</td>\n",
              "      <td>1098.434568</td>\n",
              "    </tr>\n",
              "    <tr>\n",
              "      <th>2020-06-03</th>\n",
              "      <td>NaN</td>\n",
              "      <td>1102.371292</td>\n",
              "    </tr>\n",
              "    <tr>\n",
              "      <th>2020-06-04</th>\n",
              "      <td>NaN</td>\n",
              "      <td>1106.254140</td>\n",
              "    </tr>\n",
              "    <tr>\n",
              "      <th>2020-06-05</th>\n",
              "      <td>NaN</td>\n",
              "      <td>1110.085855</td>\n",
              "    </tr>\n",
              "    <tr>\n",
              "      <th>2020-06-06</th>\n",
              "      <td>NaN</td>\n",
              "      <td>1113.864557</td>\n",
              "    </tr>\n",
              "    <tr>\n",
              "      <th>2020-06-07</th>\n",
              "      <td>NaN</td>\n",
              "      <td>1117.591466</td>\n",
              "    </tr>\n",
              "    <tr>\n",
              "      <th>2020-06-08</th>\n",
              "      <td>NaN</td>\n",
              "      <td>1121.265972</td>\n",
              "    </tr>\n",
              "    <tr>\n",
              "      <th>2020-06-09</th>\n",
              "      <td>NaN</td>\n",
              "      <td>1124.888635</td>\n",
              "    </tr>\n",
              "    <tr>\n",
              "      <th>2020-06-10</th>\n",
              "      <td>NaN</td>\n",
              "      <td>1128.452541</td>\n",
              "    </tr>\n",
              "    <tr>\n",
              "      <th>2020-06-11</th>\n",
              "      <td>NaN</td>\n",
              "      <td>1131.960690</td>\n",
              "    </tr>\n",
              "    <tr>\n",
              "      <th>2020-06-12</th>\n",
              "      <td>NaN</td>\n",
              "      <td>1135.409472</td>\n",
              "    </tr>\n",
              "    <tr>\n",
              "      <th>2020-06-13</th>\n",
              "      <td>NaN</td>\n",
              "      <td>1138.798227</td>\n",
              "    </tr>\n",
              "    <tr>\n",
              "      <th>2020-06-14</th>\n",
              "      <td>NaN</td>\n",
              "      <td>1142.126752</td>\n",
              "    </tr>\n",
              "    <tr>\n",
              "      <th>2020-06-15</th>\n",
              "      <td>NaN</td>\n",
              "      <td>1145.393522</td>\n",
              "    </tr>\n",
              "    <tr>\n",
              "      <th>2020-06-16</th>\n",
              "      <td>NaN</td>\n",
              "      <td>1148.596352</td>\n",
              "    </tr>\n",
              "    <tr>\n",
              "      <th>2020-06-17</th>\n",
              "      <td>NaN</td>\n",
              "      <td>1151.735139</td>\n",
              "    </tr>\n",
              "    <tr>\n",
              "      <th>2020-06-18</th>\n",
              "      <td>NaN</td>\n",
              "      <td>1154.812780</td>\n",
              "    </tr>\n",
              "  </tbody>\n",
              "</table>\n",
              "</div>"
            ],
            "text/plain": [
              "              price   Prediction\n",
              "2020-05-19  1038.09          NaN\n",
              "2020-05-20      NaN  1043.242156\n",
              "2020-05-21      NaN  1047.128561\n",
              "2020-05-22      NaN  1051.049885\n",
              "2020-05-23      NaN  1055.404968\n",
              "2020-05-24      NaN  1059.904960\n",
              "2020-05-25      NaN  1064.452628\n",
              "2020-05-26      NaN  1068.965327\n",
              "2020-05-27      NaN  1073.409612\n",
              "2020-05-28      NaN  1077.778215\n",
              "2020-05-29      NaN  1082.054211\n",
              "2020-05-30      NaN  1086.248630\n",
              "2020-05-31      NaN  1090.371077\n",
              "2020-06-01      NaN  1094.432277\n",
              "2020-06-02      NaN  1098.434568\n",
              "2020-06-03      NaN  1102.371292\n",
              "2020-06-04      NaN  1106.254140\n",
              "2020-06-05      NaN  1110.085855\n",
              "2020-06-06      NaN  1113.864557\n",
              "2020-06-07      NaN  1117.591466\n",
              "2020-06-08      NaN  1121.265972\n",
              "2020-06-09      NaN  1124.888635\n",
              "2020-06-10      NaN  1128.452541\n",
              "2020-06-11      NaN  1131.960690\n",
              "2020-06-12      NaN  1135.409472\n",
              "2020-06-13      NaN  1138.798227\n",
              "2020-06-14      NaN  1142.126752\n",
              "2020-06-15      NaN  1145.393522\n",
              "2020-06-16      NaN  1148.596352\n",
              "2020-06-17      NaN  1151.735139\n",
              "2020-06-18      NaN  1154.812780"
            ]
          },
          "metadata": {
            "tags": []
          },
          "execution_count": 174
        }
      ]
    },
    {
      "cell_type": "code",
      "metadata": {
        "id": "qcVVgdsNzWIh",
        "colab_type": "code",
        "colab": {}
      },
      "source": [
        "# #df2라는 데이터셋에는 5월19일부터 모델로 예측한 6월 18일까지의 기준가가 들어있음\n",
        "# df2=pd.read_csv(\"/content/sample_data/5월19일이후.csv\")\n",
        "# #인덱스를 date로 설정해줌\n",
        "# df2.date=pd.to_datetime(df2.date)\n",
        "# df2=df2.set_index(\"date\")\n",
        "# #비어있는 값에 처리되는 NaN을 숫자 0으로 변경\n",
        "# np.nan_to_num(df2, copy = False)\n",
        "# df2.head()"
      ],
      "execution_count": null,
      "outputs": []
    },
    {
      "cell_type": "code",
      "metadata": {
        "id": "J5t7hjMa0Etp",
        "colab_type": "code",
        "colab": {}
      },
      "source": [
        "# #비교하기 편하도록 df2와 예측값을 합쳐줌\n",
        "# df2_proj=pd.concat([df2,df_predict],axis=1)"
      ],
      "execution_count": null,
      "outputs": []
    },
    {
      "cell_type": "code",
      "metadata": {
        "id": "V_m7SuD-0I7D",
        "colab_type": "code",
        "colab": {}
      },
      "source": [
        "# #5월 20일부터 6월 18일까지의 실제 기준가와 예측값을 나란히 비교하도록 출력\n",
        "# df2_proj.tail(30)"
      ],
      "execution_count": null,
      "outputs": []
    },
    {
      "cell_type": "code",
      "metadata": {
        "id": "ZWORNXaiLVOJ",
        "colab_type": "code",
        "colab": {}
      },
      "source": [
        "# #RMSE 구하기      RMSE는 낮을수록 정밀도가 높음\n",
        "# from sklearn.metrics import mean_squared_error\n",
        "# def RMSE(y_test, y_predict):\n",
        "#   return np.sqrt(mean_squared_error(y_test, y_predict))\n",
        "\n",
        "# print(\"RMSE: \", RMSE(df2, df_predict))"
      ],
      "execution_count": null,
      "outputs": []
    },
    {
      "cell_type": "code",
      "metadata": {
        "id": "sdiFKTBe4aPL",
        "colab_type": "code",
        "colab": {}
      },
      "source": [
        "# #R2 구하기          1을 최대값으로 1에 가까울수록 좋음. 음의 수가 나올 경우 학습 시 머신에 잘못이 있음\n",
        "# from sklearn.metrics import r2_score\n",
        "# r2_y_predict = r2_score(df2,df_predict)\n",
        "# print(\"R2: \", r2_y_predict)"
      ],
      "execution_count": null,
      "outputs": []
    },
    {
      "cell_type": "code",
      "metadata": {
        "id": "3nYXfoD1kASe",
        "colab_type": "code",
        "colab": {
          "base_uri": "https://localhost:8080/",
          "height": 286
        },
        "outputId": "ce8e4544-0ae2-4b4c-9e2d-04fda8ac9078"
      },
      "source": [
        "plt.figure(figsize=(10,4))\n",
        "plt.plot(df_proj.index, df_proj['price'])\n",
        "plt.plot(df_proj.index, df_proj['Prediction'],color='r')\n",
        "plt.legend(loc='best', fontsize='large')\n",
        "plt.xticks(fontsize=12)\n",
        "plt.yticks(fontsize=12)\n",
        "plt.show()"
      ],
      "execution_count": null,
      "outputs": [
        {
          "output_type": "stream",
          "text": [
            "No handles with labels found to put in legend.\n"
          ],
          "name": "stderr"
        },
        {
          "output_type": "display_data",
          "data": {
            "image/png": "[encoded data removed]",
            "text/plain": [
              "<Figure size 720x288 with 1 Axes>"
            ]
          },
          "metadata": {
            "tags": [],
            "needs_background": "light"
          }
        }
      ]
    },
    {
      "cell_type": "markdown",
      "metadata": {
        "id": "SI8EWXxawPha",
        "colab_type": "text"
      },
      "source": [
        "https://youtu.be/h8v9--50mdU"
      ]
    }
  ]
}